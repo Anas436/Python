{
 "cells": [
  {
   "cell_type": "code",
   "execution_count": 4,
   "id": "8710d53d-f7a7-49cf-bfea-6757418632c6",
   "metadata": {},
   "outputs": [
    {
     "data": {
      "text/plain": [
       "(1, 2, ('pop', 'rock'), 3, 4, ('disco', (3, 4)))"
      ]
     },
     "execution_count": 4,
     "metadata": {},
     "output_type": "execute_result"
    }
   ],
   "source": [
    "# Nested Tuple\n",
    "\n",
    "# Create a nest tuple\n",
    "\n",
    "NestedT = (1, 2, (\"pop\", \"rock\"), 3, 4, (\"disco\", (3, 4)))\n",
    "NestedT"
   ]
  },
  {
   "cell_type": "code",
   "execution_count": 5,
   "id": "1e7e485d-cee2-4e30-9cd6-220fdfb7f38d",
   "metadata": {},
   "outputs": [
    {
     "name": "stdout",
     "output_type": "stream",
     "text": [
      "Element 0 of Tuple:  1\n",
      "Element 1 of Tuple:  2\n",
      "Element 2 of Tuple:  ('pop', 'rock')\n",
      "Element 3 of Tuple:  3\n",
      "Element 4 of Tuple:  4\n"
     ]
    }
   ],
   "source": [
    "# Print element on each index\n",
    "\n",
    "print(\"Element 0 of Tuple: \", NestedT[0])\n",
    "print(\"Element 1 of Tuple: \", NestedT[1])\n",
    "print(\"Element 2 of Tuple: \", NestedT[2])\n",
    "print(\"Element 3 of Tuple: \", NestedT[3])\n",
    "print(\"Element 4 of Tuple: \", NestedT[4])"
   ]
  },
  {
   "cell_type": "code",
   "execution_count": 20,
   "id": "c42a33a4-f749-4336-987e-1009ff04d119",
   "metadata": {},
   "outputs": [
    {
     "name": "stdout",
     "output_type": "stream",
     "text": [
      "Element 2, 0 of Tuple:  pop\n",
      "Element 2, 1 of Tuple:  rock\n"
     ]
    }
   ],
   "source": [
    "# Print element on each index, including nest indexes\n",
    "\n",
    "\n",
    "print(\"Element 2, 0 of Tuple: \",   NestedT[2][0])\n",
    "print(\"Element 2, 1 of Tuple: \",   NestedT[2][1])"
   ]
  },
  {
   "cell_type": "code",
   "execution_count": 21,
   "id": "2a5e0ad2-b5b0-485b-bfdf-f7334590e6f3",
   "metadata": {},
   "outputs": [
    {
     "data": {
      "text/plain": [
       "'r'"
      ]
     },
     "execution_count": 21,
     "metadata": {},
     "output_type": "execute_result"
    }
   ],
   "source": [
    "# Print the first element in the second nested tuples\n",
    "\n",
    "NestedT[2][1][0]"
   ]
  },
  {
   "cell_type": "code",
   "execution_count": 22,
   "id": "c51c13c7-a2f2-408e-9fc2-4c50f689817e",
   "metadata": {},
   "outputs": [
    {
     "data": {
      "text/plain": [
       "'o'"
      ]
     },
     "execution_count": 22,
     "metadata": {},
     "output_type": "execute_result"
    }
   ],
   "source": [
    "# Print the second element in the second nested tuples\n",
    "\n",
    "NestedT[2][1][1]"
   ]
  },
  {
   "cell_type": "code",
   "execution_count": 26,
   "id": "4c713a80-17a8-495a-970b-9fb434219070",
   "metadata": {},
   "outputs": [
    {
     "ename": "TypeError",
     "evalue": "'int' object is not subscriptable",
     "output_type": "error",
     "traceback": [
      "\u001b[0;31m---------------------------------------------------------------------------\u001b[0m",
      "\u001b[0;31mTypeError\u001b[0m                                 Traceback (most recent call last)",
      "\u001b[0;32m/tmp/ipykernel_1298/1991050355.py\u001b[0m in \u001b[0;36m<module>\u001b[0;34m\u001b[0m\n\u001b[1;32m      1\u001b[0m \u001b[0;31m# Print the first element in the second nested tuples\u001b[0m\u001b[0;34m\u001b[0m\u001b[0;34m\u001b[0m\u001b[0;34m\u001b[0m\u001b[0m\n\u001b[1;32m      2\u001b[0m \u001b[0;34m\u001b[0m\u001b[0m\n\u001b[0;32m----> 3\u001b[0;31m \u001b[0mNestedT\u001b[0m\u001b[0;34m[\u001b[0m\u001b[0;36m4\u001b[0m\u001b[0;34m]\u001b[0m\u001b[0;34m[\u001b[0m\u001b[0;36m1\u001b[0m\u001b[0;34m]\u001b[0m\u001b[0;34m[\u001b[0m\u001b[0;36m0\u001b[0m\u001b[0;34m]\u001b[0m\u001b[0;34m\u001b[0m\u001b[0;34m\u001b[0m\u001b[0m\n\u001b[0m",
      "\u001b[0;31mTypeError\u001b[0m: 'int' object is not subscriptable"
     ]
    }
   ],
   "source": [
    "# Print the first element in the second nested tuples\n",
    "\n",
    "NestedT[4][1][0]"
   ]
  },
  {
   "cell_type": "code",
   "execution_count": 24,
   "id": "997c15d9-7f5d-4de7-980f-fb07a8aaa420",
   "metadata": {},
   "outputs": [
    {
     "ename": "TypeError",
     "evalue": "'int' object is not subscriptable",
     "output_type": "error",
     "traceback": [
      "\u001b[0;31m---------------------------------------------------------------------------\u001b[0m",
      "\u001b[0;31mTypeError\u001b[0m                                 Traceback (most recent call last)",
      "\u001b[0;32m/tmp/ipykernel_1298/1841745167.py\u001b[0m in \u001b[0;36m<module>\u001b[0;34m\u001b[0m\n\u001b[1;32m      1\u001b[0m \u001b[0;31m# Print the second element in the second nested tuples\u001b[0m\u001b[0;34m\u001b[0m\u001b[0;34m\u001b[0m\u001b[0;34m\u001b[0m\u001b[0m\n\u001b[1;32m      2\u001b[0m \u001b[0;34m\u001b[0m\u001b[0m\n\u001b[0;32m----> 3\u001b[0;31m \u001b[0mNestedT\u001b[0m\u001b[0;34m[\u001b[0m\u001b[0;36m4\u001b[0m\u001b[0;34m]\u001b[0m\u001b[0;34m[\u001b[0m\u001b[0;36m1\u001b[0m\u001b[0;34m]\u001b[0m\u001b[0;34m[\u001b[0m\u001b[0;36m1\u001b[0m\u001b[0;34m]\u001b[0m\u001b[0;34m\u001b[0m\u001b[0;34m\u001b[0m\u001b[0m\n\u001b[0m",
      "\u001b[0;31mTypeError\u001b[0m: 'int' object is not subscriptable"
     ]
    }
   ],
   "source": [
    "# Print the second element in the second nested tuples\n",
    "\n",
    "NestedT[4][1][1]"
   ]
  },
  {
   "cell_type": "code",
   "execution_count": 27,
   "id": "703adf18-c4b8-4112-ad68-2444518cc637",
   "metadata": {},
   "outputs": [
    {
     "data": {
      "text/plain": [
       "('pop',\n",
       " 'rock',\n",
       " 'soul',\n",
       " 'hard rock',\n",
       " 'soft rock',\n",
       " 'R&B',\n",
       " 'progressive rock',\n",
       " 'disco')"
      ]
     },
     "execution_count": 27,
     "metadata": {},
     "output_type": "execute_result"
    }
   ],
   "source": [
    "# sample tuple\n",
    "\n",
    "genres_tuple = (\"pop\", \"rock\", \"soul\", \"hard rock\", \"soft rock\", \\\n",
    "                \"R&B\", \"progressive rock\", \"disco\") \n",
    "genres_tuple"
   ]
  },
  {
   "cell_type": "code",
   "execution_count": 28,
   "id": "635e637c-1737-4d26-a21c-71945fc10a29",
   "metadata": {},
   "outputs": [
    {
     "data": {
      "text/plain": [
       "8"
      ]
     },
     "execution_count": 28,
     "metadata": {},
     "output_type": "execute_result"
    }
   ],
   "source": [
    "len(genres_tuple)"
   ]
  },
  {
   "cell_type": "code",
   "execution_count": 29,
   "id": "3f152ba0-2739-4b23-9aa4-ed14e5d9e241",
   "metadata": {},
   "outputs": [
    {
     "data": {
      "text/plain": [
       "'hard rock'"
      ]
     },
     "execution_count": 29,
     "metadata": {},
     "output_type": "execute_result"
    }
   ],
   "source": [
    "# Access the element, with respect to index 3:\n",
    "\n",
    "genres_tuple[3]"
   ]
  },
  {
   "cell_type": "code",
   "execution_count": 30,
   "id": "7cd02efc-c1ae-4319-9d05-1531e393b947",
   "metadata": {},
   "outputs": [
    {
     "data": {
      "text/plain": [
       "('hard rock', 'soft rock', 'R&B')"
      ]
     },
     "execution_count": 30,
     "metadata": {},
     "output_type": "execute_result"
    }
   ],
   "source": [
    "# Use slicing to obtain indexes 3, 4 and 5:\n",
    "\n",
    "genres_tuple[3 : 6]"
   ]
  },
  {
   "cell_type": "code",
   "execution_count": 31,
   "id": "715f777b-f940-4fc9-8b29-3d13ce91077d",
   "metadata": {},
   "outputs": [
    {
     "data": {
      "text/plain": [
       "('pop', 'rock')"
      ]
     },
     "execution_count": 31,
     "metadata": {},
     "output_type": "execute_result"
    }
   ],
   "source": [
    "# Find the first two elements of the tuple genres_tuple:\n",
    "genres_tuple[0:2]"
   ]
  },
  {
   "cell_type": "code",
   "execution_count": 32,
   "id": "661f7842-a0a3-4ccd-8655-40753580c950",
   "metadata": {},
   "outputs": [
    {
     "data": {
      "text/plain": [
       "7"
      ]
     },
     "execution_count": 32,
     "metadata": {},
     "output_type": "execute_result"
    }
   ],
   "source": [
    "# Find the first index of \"disco\":\n",
    "\n",
    "genres_tuple.index(\"disco\")"
   ]
  },
  {
   "cell_type": "code",
   "execution_count": 36,
   "id": "aad246d5-2ad0-4599-a000-274ac6ef67c1",
   "metadata": {},
   "outputs": [
    {
     "data": {
      "text/plain": [
       "[-5, -3, 1]"
      ]
     },
     "execution_count": 36,
     "metadata": {},
     "output_type": "execute_result"
    }
   ],
   "source": [
    "# Generate a sorted List from the Tuple C_tuple=(-5, 1, -3):\n",
    "\n",
    "C_tuple = (-5, 1, -3)\n",
    "C_list = sorted(C_tuple)\n",
    "C_list"
   ]
  },
  {
   "cell_type": "code",
   "execution_count": null,
   "id": "a0149e95-6f91-45da-81b9-556a01976278",
   "metadata": {},
   "outputs": [],
   "source": []
  }
 ],
 "metadata": {
  "kernelspec": {
   "display_name": "Python",
   "language": "python",
   "name": "conda-env-python-py"
  },
  "language_info": {
   "codemirror_mode": {
    "name": "ipython",
    "version": 3
   },
   "file_extension": ".py",
   "mimetype": "text/x-python",
   "name": "python",
   "nbconvert_exporter": "python",
   "pygments_lexer": "ipython3",
   "version": "3.7.12"
  }
 },
 "nbformat": 4,
 "nbformat_minor": 5
}
