{
 "cells": [
  {
   "cell_type": "code",
   "execution_count": 5,
   "id": "955a1346-b2cd-4ef7-919b-accc3cdec5b7",
   "metadata": {},
   "outputs": [
    {
     "data": {
      "text/plain": [
       "'Michael Jackson is best'"
      ]
     },
     "execution_count": 5,
     "metadata": {},
     "output_type": "execute_result"
    }
   ],
   "source": [
    "# Concatenate Strings\n",
    "# Concatenate two strings\n",
    "\n",
    "name = \"Michael Jackson\"\n",
    "Statement = name + \" is best\"\n",
    "Statement"
   ]
  },
  {
   "cell_type": "code",
   "execution_count": 9,
   "id": "274cbc10-5145-4344-bf08-fe20aaed859d",
   "metadata": {},
   "outputs": [
    {
     "data": {
      "text/plain": [
       "' Michael Jackson Michael Jackson Michael Jackson'"
      ]
     },
     "execution_count": 9,
     "metadata": {},
     "output_type": "execute_result"
    }
   ],
   "source": [
    "# Print the string for 3 times\n",
    "3 * \" Michael Jackson\""
   ]
  },
  {
   "cell_type": "code",
   "execution_count": 10,
   "id": "8d75fd40-6a86-470e-a486-5fad051c1049",
   "metadata": {},
   "outputs": [
    {
     "data": {
      "text/plain": [
       "'Michael Jackson is the best'"
      ]
     },
     "execution_count": 10,
     "metadata": {},
     "output_type": "execute_result"
    }
   ],
   "source": [
    "# Concatenate strings\n",
    "name = \"Michael Jackson\"\n",
    "name = name + \" is the best\"\n",
    "name"
   ]
  },
  {
   "cell_type": "code",
   "execution_count": 12,
   "id": "c43d8a3d-1aef-4b4f-b7cf-e921eda36d02",
   "metadata": {},
   "outputs": [
    {
     "name": "stdout",
     "output_type": "stream",
     "text": [
      " Michael Jackson \n",
      " is the best.\n"
     ]
    }
   ],
   "source": [
    "# Escape Sequences\n",
    "# New line escape sequence\n",
    "print(\" Michael Jackson \\n is the best.\" )"
   ]
  },
  {
   "cell_type": "code",
   "execution_count": 14,
   "id": "3e9ccad1-e56b-40a5-a44a-c028ddbaed53",
   "metadata": {},
   "outputs": [
    {
     "name": "stdout",
     "output_type": "stream",
     "text": [
      " Michael Jackson \t is the best.\n"
     ]
    }
   ],
   "source": [
    "# Tab escape sequence\n",
    "\n",
    "print(\" Michael Jackson \\t is the best.\" )"
   ]
  },
  {
   "cell_type": "code",
   "execution_count": 18,
   "id": "30c83fbd-5cd0-496d-9a43-822a6ca1cd6b",
   "metadata": {},
   "outputs": [
    {
     "name": "stdout",
     "output_type": "stream",
     "text": [
      " Michael Jackson \\ is the best\n"
     ]
    }
   ],
   "source": [
    "# Include back slash in string\n",
    "\n",
    "print(\" Michael Jackson \\\\ is the best\" )"
   ]
  },
  {
   "cell_type": "code",
   "execution_count": 19,
   "id": "14e5c1a2-7b46-4faf-b082-6823ac35819d",
   "metadata": {},
   "outputs": [
    {
     "name": "stdout",
     "output_type": "stream",
     "text": [
      " Michael Jackson \\ is the best\n"
     ]
    }
   ],
   "source": [
    "# r will tell python that string will be display as raw string\n",
    "\n",
    "print(r\" Michael Jackson \\ is the best\" )"
   ]
  },
  {
   "cell_type": "code",
   "execution_count": null,
   "id": "1ae979ca-ab0b-4d15-9588-c7f2cac5e4ec",
   "metadata": {},
   "outputs": [],
   "source": []
  }
 ],
 "metadata": {
  "kernelspec": {
   "display_name": "Python",
   "language": "python",
   "name": "conda-env-python-py"
  },
  "language_info": {
   "codemirror_mode": {
    "name": "ipython",
    "version": 3
   },
   "file_extension": ".py",
   "mimetype": "text/x-python",
   "name": "python",
   "nbconvert_exporter": "python",
   "pygments_lexer": "ipython3",
   "version": "3.7.12"
  }
 },
 "nbformat": 4,
 "nbformat_minor": 5
}
