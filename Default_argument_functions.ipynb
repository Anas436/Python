{
 "cells": [
  {
   "cell_type": "code",
   "execution_count": 1,
   "id": "f6a0d593-cb47-4fc0-bcbe-a56100750ba5",
   "metadata": {},
   "outputs": [],
   "source": [
    "# Example for setting param with default value\n",
    "\n",
    "def isGoodRatings(rating=4):\n",
    "    \n",
    "    if(rating < 7):\n",
    "        \n",
    "        print(\"this album sucks it's rating is\", rating)\n",
    "        \n",
    "    else:\n",
    "        \n",
    "        print(\"this album is good its rating is\", rating)"
   ]
  },
  {
   "cell_type": "code",
   "execution_count": 4,
   "id": "c0b99289-fb33-4110-b2c2-bcff71d2874f",
   "metadata": {},
   "outputs": [
    {
     "name": "stdout",
     "output_type": "stream",
     "text": [
      "this album sucks it's rating is 4\n",
      "this album is good its rating is 10\n"
     ]
    }
   ],
   "source": [
    "# Test the value with default value and with input\n",
    "\n",
    "isGoodRatings()\n",
    "\n",
    "isGoodRatings(10)"
   ]
  },
  {
   "cell_type": "code",
   "execution_count": null,
   "id": "62ec4acb-ca04-420f-9075-9cc5e9440124",
   "metadata": {},
   "outputs": [],
   "source": []
  }
 ],
 "metadata": {
  "kernelspec": {
   "display_name": "Python",
   "language": "python",
   "name": "conda-env-python-py"
  },
  "language_info": {
   "codemirror_mode": {
    "name": "ipython",
    "version": 3
   },
   "file_extension": ".py",
   "mimetype": "text/x-python",
   "name": "python",
   "nbconvert_exporter": "python",
   "pygments_lexer": "ipython3",
   "version": "3.7.12"
  }
 },
 "nbformat": 4,
 "nbformat_minor": 5
}
