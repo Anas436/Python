{
 "cells": [
  {
   "cell_type": "code",
   "execution_count": 5,
   "id": "a9cdb44d-30a5-4869-89dc-46d6f5c1c5f9",
   "metadata": {},
   "outputs": [
    {
     "name": "stdout",
     "output_type": "stream",
     "text": [
      "Before Upper :  Thriller is the sixth studio album.\n",
      "After Upper:  THRILLER IS THE SIXTH STUDIO ALBUM.\n"
     ]
    }
   ],
   "source": [
    "# Convert all the characters in string to upper case\n",
    "\n",
    "a = \"Thriller is the sixth studio album.\"\n",
    "print(\"Before Upper : \", a)\n",
    "b= a.upper()\n",
    "print(\"After Upper: \",b)\n"
   ]
  },
  {
   "cell_type": "code",
   "execution_count": 7,
   "id": "c371f22a-fdf8-42ad-b07b-ea8cf38befc3",
   "metadata": {},
   "outputs": [
    {
     "name": "stdout",
     "output_type": "stream",
     "text": [
      "Before lower :  THRILLER IS THE SIXTH STUDIO ALBUM.\n",
      "After lower:  thriller is the sixth studio album.\n"
     ]
    }
   ],
   "source": [
    "a = \"THRILLER IS THE SIXTH STUDIO ALBUM.\"\n",
    "print(\"Before lower : \", a)\n",
    "b= a.lower()\n",
    "print(\"After lower: \",b)"
   ]
  },
  {
   "cell_type": "code",
   "execution_count": 9,
   "id": "3379da07-a018-492c-b3b9-a3a39617b94b",
   "metadata": {},
   "outputs": [
    {
     "data": {
      "text/plain": [
       "'Md. Anas Mondol Jackson is the best'"
      ]
     },
     "execution_count": 9,
     "metadata": {},
     "output_type": "execute_result"
    }
   ],
   "source": [
    "# Replace the old substring with the new target substring is the segment has been found in the string\n",
    "a = \"Michael Jackson is the best\"\n",
    "b = a.replace(\"Michael\", \"Md. Anas Mondol\")\n",
    "b"
   ]
  },
  {
   "cell_type": "code",
   "execution_count": 11,
   "id": "e375ff72-352f-48a8-8b62-97d0aac95495",
   "metadata": {},
   "outputs": [
    {
     "data": {
      "text/plain": [
       "5"
      ]
     },
     "execution_count": 11,
     "metadata": {},
     "output_type": "execute_result"
    }
   ],
   "source": [
    "# Find the substring in the string. Only the index of the first elment of substring in string will be the output\n",
    "name = \"Michael Jackson\"\n",
    "name.find('el')"
   ]
  },
  {
   "cell_type": "code",
   "execution_count": 12,
   "id": "f88d6cb2-23d2-4157-8565-05e50d23706e",
   "metadata": {},
   "outputs": [
    {
     "data": {
      "text/plain": [
       "12"
      ]
     },
     "execution_count": 12,
     "metadata": {},
     "output_type": "execute_result"
    }
   ],
   "source": [
    "name.find('son')"
   ]
  },
  {
   "cell_type": "code",
   "execution_count": 13,
   "id": "69328a8b-2bad-40fc-9a34-dd9c0aeb91ad",
   "metadata": {},
   "outputs": [
    {
     "data": {
      "text/plain": [
       "8"
      ]
     },
     "execution_count": 13,
     "metadata": {},
     "output_type": "execute_result"
    }
   ],
   "source": [
    "# Find the substring in the string.\n",
    "name.find(\"Jack\")"
   ]
  },
  {
   "cell_type": "code",
   "execution_count": 14,
   "id": "d0a815ef-d51b-4af0-b283-7f287232530f",
   "metadata": {},
   "outputs": [
    {
     "data": {
      "text/plain": [
       "-1"
      ]
     },
     "execution_count": 14,
     "metadata": {},
     "output_type": "execute_result"
    }
   ],
   "source": [
    "# If cannot find the substring in the string\n",
    "name.find('Jasdfasdasdf')"
   ]
  },
  {
   "cell_type": "code",
   "execution_count": 16,
   "id": "7be7eba3-911f-459d-aac0-32adb242da24",
   "metadata": {},
   "outputs": [
    {
     "data": {
      "text/plain": [
       "'1'"
      ]
     },
     "execution_count": 16,
     "metadata": {},
     "output_type": "execute_result"
    }
   ],
   "source": [
    "# What is the value of the variable a after the following code is executed?\n",
    "# Write your code below and press Shift+Enter to execute \n",
    "\n",
    "a = \"1\"\n",
    "a"
   ]
  },
  {
   "cell_type": "code",
   "execution_count": 17,
   "id": "b0274a29-7844-4b20-93a0-0a027719d852",
   "metadata": {},
   "outputs": [
    {
     "name": "stdout",
     "output_type": "stream",
     "text": [
      "ABC\n"
     ]
    }
   ],
   "source": [
    "# Consider the variable d use slicing to print out the first three elements:\n",
    "# Write your code below and press Shift+Enter to execute\n",
    "\n",
    "d = \"ABCDEFG\"\n",
    "print(d[:3])"
   ]
  },
  {
   "cell_type": "code",
   "execution_count": 18,
   "id": "5335a3db-3476-4bc5-815c-95a557bb5b80",
   "metadata": {},
   "outputs": [
    {
     "name": "stdout",
     "output_type": "stream",
     "text": [
      "correct\n"
     ]
    }
   ],
   "source": [
    "# Use a stride value of 2 to print out every second character of the string e:\n",
    "# Write your code below and press Shift+Enter to execute\n",
    "\n",
    "e = 'clocrkr1e1c1t'\n",
    "print(e[::2])"
   ]
  },
  {
   "cell_type": "code",
   "execution_count": 23,
   "id": "536b19f0-c7bf-4ca3-93c0-f00e33e551e2",
   "metadata": {},
   "outputs": [
    {
     "name": "stdout",
     "output_type": "stream",
     "text": [
      " \\ \n",
      " \\ \n"
     ]
    }
   ],
   "source": [
    "# Print out a backslash:\n",
    "print(r\" \\ \")\n",
    "print(\" \\\\ \")"
   ]
  },
  {
   "cell_type": "code",
   "execution_count": 24,
   "id": "a97c1be7-c179-4c6d-855d-79ba2a84981d",
   "metadata": {},
   "outputs": [
    {
     "data": {
      "text/plain": [
       "'YOU ARE WRONG'"
      ]
     },
     "execution_count": 24,
     "metadata": {},
     "output_type": "execute_result"
    }
   ],
   "source": [
    "# Convert the variable f to uppercase:\n",
    "f = \"You are wrong\"\n",
    "g= f.upper()\n",
    "g"
   ]
  },
  {
   "cell_type": "code",
   "execution_count": 26,
   "id": "f4b05db0-3bac-4bb0-908e-0fd50a5233b0",
   "metadata": {},
   "outputs": [
    {
     "data": {
      "text/plain": [
       "95"
      ]
     },
     "execution_count": 26,
     "metadata": {},
     "output_type": "execute_result"
    }
   ],
   "source": [
    "# Consider the variable g, and find the first index of the sub-string snow:\n",
    "g = \"Mary had a little lamb Little lamb, little lamb Mary had a little lamb \\\n",
    "Its fleece was white as snow And everywhere that Mary went Mary went, Mary went \\\n",
    "Everywhere that Mary went The lamb was sure to go\"\n",
    "\n",
    "g.find('snow')"
   ]
  },
  {
   "cell_type": "code",
   "execution_count": 27,
   "id": "2c24e54b-38cb-430f-90aa-6280543cf80c",
   "metadata": {},
   "outputs": [
    {
     "data": {
      "text/plain": [
       "'Bob had a little lamb Little lamb, little lamb Bob had a little lamb Its fleece was white as snow And everywhere that Bob went Bob went, Bob went Everywhere that Bob went The lamb was sure to go'"
      ]
     },
     "execution_count": 27,
     "metadata": {},
     "output_type": "execute_result"
    }
   ],
   "source": [
    "# In the variable g, replace the sub-string Mary with Bob:\n",
    "g.replace('Mary', 'Bob')"
   ]
  },
  {
   "cell_type": "code",
   "execution_count": null,
   "id": "27898843-439b-4d76-b9a8-382fa529d67d",
   "metadata": {},
   "outputs": [],
   "source": []
  }
 ],
 "metadata": {
  "kernelspec": {
   "display_name": "Python",
   "language": "python",
   "name": "conda-env-python-py"
  },
  "language_info": {
   "codemirror_mode": {
    "name": "ipython",
    "version": 3
   },
   "file_extension": ".py",
   "mimetype": "text/x-python",
   "name": "python",
   "nbconvert_exporter": "python",
   "pygments_lexer": "ipython3",
   "version": "3.7.12"
  }
 },
 "nbformat": 4,
 "nbformat_minor": 5
}
