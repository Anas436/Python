{
 "cells": [
  {
   "cell_type": "code",
   "execution_count": 2,
   "id": "0dbd8657-37b6-4a64-9da2-e6e5e6332b7f",
   "metadata": {},
   "outputs": [
    {
     "data": {
      "text/plain": [
       "('disco', 10, 1.2, 'hard rock', 10)"
      ]
     },
     "execution_count": 2,
     "metadata": {},
     "output_type": "execute_result"
    }
   ],
   "source": [
    "# Concatenate Tuples\n",
    "\n",
    "tuple1 = (\"disco\",10,1.2 )\n",
    "\n",
    "tuple2 = tuple1 + (\"hard rock\", 10)\n",
    "tuple2"
   ]
  },
  {
   "cell_type": "code",
   "execution_count": 4,
   "id": "38a7860a-1c68-4fcb-898f-32f391d98052",
   "metadata": {},
   "outputs": [
    {
     "data": {
      "text/plain": [
       "('disco', 10, 1.2)"
      ]
     },
     "execution_count": 4,
     "metadata": {},
     "output_type": "execute_result"
    }
   ],
   "source": [
    "# Slice from index 0 to index 2\n",
    "tuple2[0:3]"
   ]
  },
  {
   "cell_type": "code",
   "execution_count": 5,
   "id": "b773f524-2848-42bc-b27d-e3ae53e2787a",
   "metadata": {},
   "outputs": [
    {
     "data": {
      "text/plain": [
       "('hard rock', 10)"
      ]
     },
     "execution_count": 5,
     "metadata": {},
     "output_type": "execute_result"
    }
   ],
   "source": [
    "# Slice from index 3 to index 4\n",
    "tuple2[3:5]"
   ]
  },
  {
   "cell_type": "code",
   "execution_count": 6,
   "id": "1edf5715-8645-425b-a187-b7715c271559",
   "metadata": {},
   "outputs": [
    {
     "data": {
      "text/plain": [
       "5"
      ]
     },
     "execution_count": 6,
     "metadata": {},
     "output_type": "execute_result"
    }
   ],
   "source": [
    "# Get the length of tuple\n",
    "len(tuple2)"
   ]
  },
  {
   "cell_type": "code",
   "execution_count": 7,
   "id": "b070f39c-f001-4a9e-9270-e8cfae43e0f5",
   "metadata": {},
   "outputs": [
    {
     "data": {
      "text/plain": [
       "(0, 9, 6, 5, 10, 8, 9, 6, 2)"
      ]
     },
     "execution_count": 7,
     "metadata": {},
     "output_type": "execute_result"
    }
   ],
   "source": [
    "# Sorting\n",
    "\n",
    "# A sample tuple\n",
    "\n",
    "rating = (0, 9, 6, 5, 10, 8, 9, 6, 2)\n",
    "rating"
   ]
  },
  {
   "cell_type": "code",
   "execution_count": 9,
   "id": "8aa9ec9a-4d6d-4e8c-a154-8ca961864689",
   "metadata": {},
   "outputs": [
    {
     "data": {
      "text/plain": [
       "[0, 2, 5, 6, 6, 8, 9, 9, 10]"
      ]
     },
     "execution_count": 9,
     "metadata": {},
     "output_type": "execute_result"
    }
   ],
   "source": [
    "# Sort the tuple\n",
    "\n",
    "ratingsorted = sorted(rating)\n",
    "ratingsorted"
   ]
  },
  {
   "cell_type": "code",
   "execution_count": null,
   "id": "8ebba4ee-3f67-4625-8f2a-fe9abb88669c",
   "metadata": {},
   "outputs": [],
   "source": []
  }
 ],
 "metadata": {
  "kernelspec": {
   "display_name": "Python",
   "language": "python",
   "name": "conda-env-python-py"
  },
  "language_info": {
   "codemirror_mode": {
    "name": "ipython",
    "version": 3
   },
   "file_extension": ".py",
   "mimetype": "text/x-python",
   "name": "python",
   "nbconvert_exporter": "python",
   "pygments_lexer": "ipython3",
   "version": "3.7.12"
  }
 },
 "nbformat": 4,
 "nbformat_minor": 5
}
