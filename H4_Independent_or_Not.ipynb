{
  "nbformat": 4,
  "nbformat_minor": 0,
  "metadata": {
    "colab": {
      "provenance": []
    },
    "kernelspec": {
      "name": "python3",
      "display_name": "Python 3"
    },
    "language_info": {
      "name": "python"
    }
  },
  "cells": [
    {
      "cell_type": "markdown",
      "source": [
        "**You are given a value check whether that is independent or not.**"
      ],
      "metadata": {
        "id": "HDwqLCA6-N-J"
      }
    },
    {
      "cell_type": "code",
      "execution_count": null,
      "metadata": {
        "colab": {
          "base_uri": "https://localhost:8080/"
        },
        "id": "3CLgnkqP9_FX",
        "outputId": "321a6f56-349f-4563-d8dd-a307ff180dac"
      },
      "outputs": [
        {
          "output_type": "stream",
          "name": "stdout",
          "text": [
            "R.H.S value of this event :  0.35\n",
            "L.H.S value of this event :  0.4\n",
            "\n",
            "A and B not Independent Events!\n"
          ]
        }
      ],
      "source": [
        "#Declare event to check whether it's independent or not.\n",
        "Global_value=[1,2,3,4,5,6,7,8,9,10]\n",
        "A_value=[1,2,3,4,5,6,7]\n",
        "B_value=[1,3,5,7,9]\n",
        "\n",
        "#find P(A)\n",
        "P_of_A=len(A_value)/len(Global_value)\n",
        "\n",
        "#find P(B)\n",
        "P_of_B=len(B_value)/len(Global_value)\n",
        "\n",
        "#formula for R.H.S is P(AnB)=P(A).P(B)\n",
        "RHS=(P_of_A)*(P_of_B)\n",
        "print(\"R.H.S value of this event : \",RHS)\n",
        "\n",
        "#for L.H.S\n",
        "#store P(AnB) values also it will intersect between A and B\n",
        "flag=0\n",
        "\n",
        "for i in range(len(A_value)):\n",
        "  for j in range(len(B_value)):\n",
        "    if(A_value[i] == B_value[j]):\n",
        "      flag +=1\n",
        "\n",
        "LHS=flag/len(Global_value)\n",
        "print(\"L.H.S value of this event : \",LHS)\n",
        "\n",
        "if (RHS == LHS):\n",
        "  print(\"\\nA and B Independent Events!\")\n",
        "else:\n",
        "  print(\"\\nA and B not Independent Events!\")"
      ]
    },
    {
      "cell_type": "code",
      "source": [],
      "metadata": {
        "id": "uqiIVdiz_eXB"
      },
      "execution_count": null,
      "outputs": []
    }
  ]
}