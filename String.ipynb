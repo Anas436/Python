{
 "cells": [
  {
   "cell_type": "code",
   "execution_count": 1,
   "id": "eb1505e6-e35f-482e-99c0-2706f4e68c3c",
   "metadata": {},
   "outputs": [
    {
     "data": {
      "text/plain": [
       "'Michael Jackson'"
      ]
     },
     "execution_count": 1,
     "metadata": {},
     "output_type": "execute_result"
    }
   ],
   "source": [
    "# Use quotation marks for defining string\n",
    "\n",
    "\"Michael Jackson\""
   ]
  },
  {
   "cell_type": "code",
   "execution_count": 2,
   "id": "e8143106-32fa-4930-895c-5498e5c4f2e7",
   "metadata": {},
   "outputs": [
    {
     "data": {
      "text/plain": [
       "'Michael Jackson'"
      ]
     },
     "execution_count": 2,
     "metadata": {},
     "output_type": "execute_result"
    }
   ],
   "source": [
    "# Use single quotation marks for defining string\n",
    "\n",
    "'Michael Jackson'\n"
   ]
  },
  {
   "cell_type": "code",
   "execution_count": 3,
   "id": "360efeb2-9a22-415b-9bc7-53e4f8d4971b",
   "metadata": {},
   "outputs": [
    {
     "data": {
      "text/plain": [
       "'1 2 3 4 5 6 '"
      ]
     },
     "execution_count": 3,
     "metadata": {},
     "output_type": "execute_result"
    }
   ],
   "source": [
    "# Digitals and spaces in string\n",
    "\n",
    "'1 2 3 4 5 6 '"
   ]
  },
  {
   "cell_type": "code",
   "execution_count": 4,
   "id": "403f7fc4-d25b-42a8-bd14-da86ec085282",
   "metadata": {},
   "outputs": [
    {
     "data": {
      "text/plain": [
       "'@#2_#]&*^%$'"
      ]
     },
     "execution_count": 4,
     "metadata": {},
     "output_type": "execute_result"
    }
   ],
   "source": [
    "# Special characters in string\n",
    "\n",
    "'@#2_#]&*^%$'"
   ]
  },
  {
   "cell_type": "code",
   "execution_count": 6,
   "id": "6c82d732-c661-492f-9c4b-f802748ef111",
   "metadata": {},
   "outputs": [
    {
     "name": "stdout",
     "output_type": "stream",
     "text": [
      "hello!\n"
     ]
    }
   ],
   "source": [
    "# We can print our string using the print statement:\n",
    "\n",
    "# Print the string\n",
    "\n",
    "print(\"hello!\")"
   ]
  },
  {
   "cell_type": "code",
   "execution_count": 7,
   "id": "cff12840-2c4f-408d-b4a5-d9f9eee21216",
   "metadata": {},
   "outputs": [
    {
     "data": {
      "text/plain": [
       "'Michael Jackson'"
      ]
     },
     "execution_count": 7,
     "metadata": {},
     "output_type": "execute_result"
    }
   ],
   "source": [
    "# Assign string to variable\n",
    "\n",
    "name = \"Michael Jackson\"\n",
    "name"
   ]
  },
  {
   "cell_type": "code",
   "execution_count": null,
   "id": "7dd2d1d3-ef72-4c7b-8233-de6fec6af069",
   "metadata": {},
   "outputs": [],
   "source": []
  },
  {
   "cell_type": "code",
   "execution_count": 10,
   "id": "8d95ed40-2dbc-47f9-bb19-aa8ce3de70d6",
   "metadata": {},
   "outputs": [
    {
     "name": "stdout",
     "output_type": "stream",
     "text": [
      "M\n"
     ]
    }
   ],
   "source": [
    "#Indexing\n",
    "# Print the first element in the string\n",
    "\n",
    "name = \"Michael Jackson\"\n",
    "print(name[0])"
   ]
  },
  {
   "cell_type": "code",
   "execution_count": 11,
   "id": "f0ec115c-5161-4557-a5fc-fad1135798ab",
   "metadata": {},
   "outputs": [
    {
     "name": "stdout",
     "output_type": "stream",
     "text": [
      "l\n"
     ]
    }
   ],
   "source": [
    "# Print the first element in the string\n",
    "print(name[6])"
   ]
  },
  {
   "cell_type": "code",
   "execution_count": 12,
   "id": "33468f4c-0c8f-4bec-ad91-db081db3f009",
   "metadata": {},
   "outputs": [
    {
     "name": "stdout",
     "output_type": "stream",
     "text": [
      "o\n"
     ]
    }
   ],
   "source": [
    "# Print the element on the 13th index in the string\n",
    "print(name[13])"
   ]
  },
  {
   "cell_type": "code",
   "execution_count": 13,
   "id": "b2b431f9-a2ff-401f-b507-7f4ac46380e2",
   "metadata": {},
   "outputs": [
    {
     "name": "stdout",
     "output_type": "stream",
     "text": [
      "n\n"
     ]
    }
   ],
   "source": [
    "# Print the last element in the string\n",
    "print(name[-1])"
   ]
  },
  {
   "cell_type": "code",
   "execution_count": 15,
   "id": "b6fe5977-f4da-4d7e-a7e1-3a3411ef2fba",
   "metadata": {},
   "outputs": [
    {
     "name": "stdout",
     "output_type": "stream",
     "text": [
      "15\n",
      "M\n"
     ]
    }
   ],
   "source": [
    "# Print the first element in the string\n",
    "print(len(name))\n",
    "print(name[-15])"
   ]
  },
  {
   "cell_type": "code",
   "execution_count": null,
   "id": "39f6e477-b6d2-427f-80bf-8f1321bb9117",
   "metadata": {},
   "outputs": [],
   "source": []
  }
 ],
 "metadata": {
  "kernelspec": {
   "display_name": "Python",
   "language": "python",
   "name": "conda-env-python-py"
  },
  "language_info": {
   "codemirror_mode": {
    "name": "ipython",
    "version": 3
   },
   "file_extension": ".py",
   "mimetype": "text/x-python",
   "name": "python",
   "nbconvert_exporter": "python",
   "pygments_lexer": "ipython3",
   "version": "3.7.12"
  }
 },
 "nbformat": 4,
 "nbformat_minor": 5
}
