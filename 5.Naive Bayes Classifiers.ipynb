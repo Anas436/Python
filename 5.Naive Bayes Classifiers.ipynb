{
 "cells": [
  {
   "cell_type": "markdown",
   "id": "52159879-7daf-4e32-b79f-0891341dd7a3",
   "metadata": {},
   "source": [
    "## Naive Bayes Classifiers with Python"
   ]
  },
  {
   "cell_type": "markdown",
   "id": "67555c56-e22a-4fdb-a6c8-80d48fcc6ac9",
   "metadata": {},
   "source": [
    "Let's first load required libraries:"
   ]
  },
  {
   "cell_type": "code",
   "execution_count": 1,
   "id": "c02fbed2-f4c5-42ab-8477-53deb96721d4",
   "metadata": {},
   "outputs": [],
   "source": [
    "import pandas as pd\n",
    "import numpy as np"
   ]
  },
  {
   "cell_type": "markdown",
   "id": "96d652e7-003b-49d3-a63b-3eb42686fb90",
   "metadata": {},
   "source": [
    "### Load Data From CSV File"
   ]
  },
  {
   "cell_type": "code",
   "execution_count": 2,
   "id": "c55f2d70-6ad7-407d-80e2-4d2aed8cd37b",
   "metadata": {},
   "outputs": [
    {
     "data": {
      "text/html": [
       "<div>\n",
       "<style scoped>\n",
       "    .dataframe tbody tr th:only-of-type {\n",
       "        vertical-align: middle;\n",
       "    }\n",
       "\n",
       "    .dataframe tbody tr th {\n",
       "        vertical-align: top;\n",
       "    }\n",
       "\n",
       "    .dataframe thead th {\n",
       "        text-align: right;\n",
       "    }\n",
       "</style>\n",
       "<table border=\"1\" class=\"dataframe\">\n",
       "  <thead>\n",
       "    <tr style=\"text-align: right;\">\n",
       "      <th></th>\n",
       "      <th>Color</th>\n",
       "      <th>Legs</th>\n",
       "      <th>Height</th>\n",
       "      <th>Smelly</th>\n",
       "      <th>Species</th>\n",
       "    </tr>\n",
       "  </thead>\n",
       "  <tbody>\n",
       "    <tr>\n",
       "      <th>0</th>\n",
       "      <td>white</td>\n",
       "      <td>3</td>\n",
       "      <td>short</td>\n",
       "      <td>yes</td>\n",
       "      <td>m</td>\n",
       "    </tr>\n",
       "    <tr>\n",
       "      <th>1</th>\n",
       "      <td>green</td>\n",
       "      <td>2</td>\n",
       "      <td>tall</td>\n",
       "      <td>no</td>\n",
       "      <td>m</td>\n",
       "    </tr>\n",
       "    <tr>\n",
       "      <th>2</th>\n",
       "      <td>green</td>\n",
       "      <td>3</td>\n",
       "      <td>short</td>\n",
       "      <td>yes</td>\n",
       "      <td>m</td>\n",
       "    </tr>\n",
       "    <tr>\n",
       "      <th>3</th>\n",
       "      <td>white</td>\n",
       "      <td>3</td>\n",
       "      <td>short</td>\n",
       "      <td>yes</td>\n",
       "      <td>m</td>\n",
       "    </tr>\n",
       "    <tr>\n",
       "      <th>4</th>\n",
       "      <td>green</td>\n",
       "      <td>2</td>\n",
       "      <td>short</td>\n",
       "      <td>no</td>\n",
       "      <td>h</td>\n",
       "    </tr>\n",
       "  </tbody>\n",
       "</table>\n",
       "</div>"
      ],
      "text/plain": [
       "   Color  Legs Height Smelly Species\n",
       "0  white     3  short    yes       m\n",
       "1  green     2   tall     no       m\n",
       "2  green     3  short    yes       m\n",
       "3  white     3  short    yes       m\n",
       "4  green     2  short     no       h"
      ]
     },
     "execution_count": 2,
     "metadata": {},
     "output_type": "execute_result"
    }
   ],
   "source": [
    "df=pd.read_csv(\"Updated_Color_Data.csv\")\n",
    "df.head()"
   ]
  },
  {
   "cell_type": "code",
   "execution_count": 3,
   "id": "e8e07582-994f-450d-940d-8f91dad1dd7e",
   "metadata": {},
   "outputs": [
    {
     "data": {
      "text/plain": [
       "(49, 5)"
      ]
     },
     "execution_count": 3,
     "metadata": {},
     "output_type": "execute_result"
    }
   ],
   "source": [
    "df.shape"
   ]
  },
  {
   "cell_type": "markdown",
   "id": "c5d71fc9-a76e-406f-809d-c6cfa7c700d8",
   "metadata": {},
   "source": [
    "Let’s see how many of __Color__ class is in our data set"
   ]
  },
  {
   "cell_type": "code",
   "execution_count": 4,
   "id": "0a2a14a6-2234-4ac6-bce7-706b99752c19",
   "metadata": {},
   "outputs": [
    {
     "data": {
      "text/plain": [
       "white    30\n",
       "green    19\n",
       "Name: Color, dtype: int64"
      ]
     },
     "execution_count": 4,
     "metadata": {},
     "output_type": "execute_result"
    }
   ],
   "source": [
    "df[\"Color\"].value_counts()"
   ]
  },
  {
   "cell_type": "markdown",
   "id": "1bdde64f-9273-4d37-bde5-8e40c0581fc4",
   "metadata": {},
   "source": [
    "Let’s see how many of __Height__ class is in our data set"
   ]
  },
  {
   "cell_type": "code",
   "execution_count": 5,
   "id": "0accbe9b-e4f8-4b97-8236-2ce20321628e",
   "metadata": {},
   "outputs": [
    {
     "data": {
      "text/plain": [
       "short    32\n",
       "tall     17\n",
       "Name: Height, dtype: int64"
      ]
     },
     "execution_count": 5,
     "metadata": {},
     "output_type": "execute_result"
    }
   ],
   "source": [
    "df[\"Height\"].value_counts()"
   ]
  },
  {
   "cell_type": "markdown",
   "id": "00e2b960-ea1d-42ed-acc9-63cc73ef3738",
   "metadata": {},
   "source": [
    "Let’s see how many of __Smelly__ class is in our data set"
   ]
  },
  {
   "cell_type": "code",
   "execution_count": 6,
   "id": "7000ce3c-ad7d-46ce-a130-9f7b4e28a0d9",
   "metadata": {},
   "outputs": [
    {
     "data": {
      "text/plain": [
       "yes    25\n",
       "no     24\n",
       "Name: Smelly, dtype: int64"
      ]
     },
     "execution_count": 6,
     "metadata": {},
     "output_type": "execute_result"
    }
   ],
   "source": [
    "df[\"Smelly\"].value_counts()"
   ]
  },
  {
   "cell_type": "markdown",
   "id": "2a411d15-838d-4e2e-bfa0-b6247c43d728",
   "metadata": {},
   "source": [
    "Let’s see how many of __Species__ class is in our data set"
   ]
  },
  {
   "cell_type": "code",
   "execution_count": 7,
   "id": "c3de2706-427d-4393-986a-939a1e637de8",
   "metadata": {},
   "outputs": [
    {
     "data": {
      "text/plain": [
       "m    25\n",
       "h    24\n",
       "Name: Species, dtype: int64"
      ]
     },
     "execution_count": 7,
     "metadata": {},
     "output_type": "execute_result"
    }
   ],
   "source": [
    "df[\"Species\"].value_counts()"
   ]
  },
  {
   "cell_type": "markdown",
   "id": "0b4201fc-85dd-4c72-b54d-0e482aaec1a6",
   "metadata": {},
   "source": [
    "### Convert Categorical features to numerical values"
   ]
  },
  {
   "cell_type": "markdown",
   "id": "6398f669-8cd9-47b7-8de8-c03f7bd4aee0",
   "metadata": {},
   "source": [
    "How many number of rows and columns has in this dataset"
   ]
  },
  {
   "cell_type": "code",
   "execution_count": 8,
   "id": "a24ad98a-f5b8-4dec-a359-57dabe72cb82",
   "metadata": {},
   "outputs": [
    {
     "data": {
      "text/html": [
       "<div>\n",
       "<style scoped>\n",
       "    .dataframe tbody tr th:only-of-type {\n",
       "        vertical-align: middle;\n",
       "    }\n",
       "\n",
       "    .dataframe tbody tr th {\n",
       "        vertical-align: top;\n",
       "    }\n",
       "\n",
       "    .dataframe thead th {\n",
       "        text-align: right;\n",
       "    }\n",
       "</style>\n",
       "<table border=\"1\" class=\"dataframe\">\n",
       "  <thead>\n",
       "    <tr style=\"text-align: right;\">\n",
       "      <th></th>\n",
       "      <th>Color</th>\n",
       "      <th>Legs</th>\n",
       "      <th>Height</th>\n",
       "      <th>Smelly</th>\n",
       "      <th>Species</th>\n",
       "      <th>Colored</th>\n",
       "    </tr>\n",
       "  </thead>\n",
       "  <tbody>\n",
       "    <tr>\n",
       "      <th>0</th>\n",
       "      <td>white</td>\n",
       "      <td>3</td>\n",
       "      <td>short</td>\n",
       "      <td>yes</td>\n",
       "      <td>m</td>\n",
       "      <td>1</td>\n",
       "    </tr>\n",
       "    <tr>\n",
       "      <th>1</th>\n",
       "      <td>green</td>\n",
       "      <td>2</td>\n",
       "      <td>tall</td>\n",
       "      <td>no</td>\n",
       "      <td>m</td>\n",
       "      <td>0</td>\n",
       "    </tr>\n",
       "    <tr>\n",
       "      <th>2</th>\n",
       "      <td>green</td>\n",
       "      <td>3</td>\n",
       "      <td>short</td>\n",
       "      <td>yes</td>\n",
       "      <td>m</td>\n",
       "      <td>0</td>\n",
       "    </tr>\n",
       "    <tr>\n",
       "      <th>3</th>\n",
       "      <td>white</td>\n",
       "      <td>3</td>\n",
       "      <td>short</td>\n",
       "      <td>yes</td>\n",
       "      <td>m</td>\n",
       "      <td>1</td>\n",
       "    </tr>\n",
       "    <tr>\n",
       "      <th>4</th>\n",
       "      <td>green</td>\n",
       "      <td>2</td>\n",
       "      <td>short</td>\n",
       "      <td>no</td>\n",
       "      <td>h</td>\n",
       "      <td>0</td>\n",
       "    </tr>\n",
       "  </tbody>\n",
       "</table>\n",
       "</div>"
      ],
      "text/plain": [
       "   Color  Legs Height Smelly Species  Colored\n",
       "0  white     3  short    yes       m        1\n",
       "1  green     2   tall     no       m        0\n",
       "2  green     3  short    yes       m        0\n",
       "3  white     3  short    yes       m        1\n",
       "4  green     2  short     no       h        0"
      ]
     },
     "execution_count": 8,
     "metadata": {},
     "output_type": "execute_result"
    }
   ],
   "source": [
    "df[\"Colored\"]=df[\"Color\"].apply(lambda x : 1 if(x=='white') else 0)\n",
    "df.head()"
   ]
  },
  {
   "cell_type": "code",
   "execution_count": 9,
   "id": "ee1ba1d9-7da0-4218-968b-21a1c173b998",
   "metadata": {},
   "outputs": [
    {
     "data": {
      "text/html": [
       "<div>\n",
       "<style scoped>\n",
       "    .dataframe tbody tr th:only-of-type {\n",
       "        vertical-align: middle;\n",
       "    }\n",
       "\n",
       "    .dataframe tbody tr th {\n",
       "        vertical-align: top;\n",
       "    }\n",
       "\n",
       "    .dataframe thead th {\n",
       "        text-align: right;\n",
       "    }\n",
       "</style>\n",
       "<table border=\"1\" class=\"dataframe\">\n",
       "  <thead>\n",
       "    <tr style=\"text-align: right;\">\n",
       "      <th></th>\n",
       "      <th>Color</th>\n",
       "      <th>Legs</th>\n",
       "      <th>Height</th>\n",
       "      <th>Smelly</th>\n",
       "      <th>Species</th>\n",
       "      <th>Colored</th>\n",
       "      <th>Heights</th>\n",
       "    </tr>\n",
       "  </thead>\n",
       "  <tbody>\n",
       "    <tr>\n",
       "      <th>0</th>\n",
       "      <td>white</td>\n",
       "      <td>3</td>\n",
       "      <td>short</td>\n",
       "      <td>yes</td>\n",
       "      <td>m</td>\n",
       "      <td>1</td>\n",
       "      <td>1</td>\n",
       "    </tr>\n",
       "    <tr>\n",
       "      <th>1</th>\n",
       "      <td>green</td>\n",
       "      <td>2</td>\n",
       "      <td>tall</td>\n",
       "      <td>no</td>\n",
       "      <td>m</td>\n",
       "      <td>0</td>\n",
       "      <td>0</td>\n",
       "    </tr>\n",
       "    <tr>\n",
       "      <th>2</th>\n",
       "      <td>green</td>\n",
       "      <td>3</td>\n",
       "      <td>short</td>\n",
       "      <td>yes</td>\n",
       "      <td>m</td>\n",
       "      <td>0</td>\n",
       "      <td>1</td>\n",
       "    </tr>\n",
       "    <tr>\n",
       "      <th>3</th>\n",
       "      <td>white</td>\n",
       "      <td>3</td>\n",
       "      <td>short</td>\n",
       "      <td>yes</td>\n",
       "      <td>m</td>\n",
       "      <td>1</td>\n",
       "      <td>1</td>\n",
       "    </tr>\n",
       "    <tr>\n",
       "      <th>4</th>\n",
       "      <td>green</td>\n",
       "      <td>2</td>\n",
       "      <td>short</td>\n",
       "      <td>no</td>\n",
       "      <td>h</td>\n",
       "      <td>0</td>\n",
       "      <td>1</td>\n",
       "    </tr>\n",
       "  </tbody>\n",
       "</table>\n",
       "</div>"
      ],
      "text/plain": [
       "   Color  Legs Height Smelly Species  Colored  Heights\n",
       "0  white     3  short    yes       m        1        1\n",
       "1  green     2   tall     no       m        0        0\n",
       "2  green     3  short    yes       m        0        1\n",
       "3  white     3  short    yes       m        1        1\n",
       "4  green     2  short     no       h        0        1"
      ]
     },
     "execution_count": 9,
     "metadata": {},
     "output_type": "execute_result"
    }
   ],
   "source": [
    "df[\"Heights\"]=df[\"Height\"].apply(lambda x : 1 if(x=='short') else 0)\n",
    "df.head()"
   ]
  },
  {
   "cell_type": "code",
   "execution_count": 10,
   "id": "72422ed5-b376-44af-aea8-25cd4fc77389",
   "metadata": {},
   "outputs": [
    {
     "data": {
      "text/html": [
       "<div>\n",
       "<style scoped>\n",
       "    .dataframe tbody tr th:only-of-type {\n",
       "        vertical-align: middle;\n",
       "    }\n",
       "\n",
       "    .dataframe tbody tr th {\n",
       "        vertical-align: top;\n",
       "    }\n",
       "\n",
       "    .dataframe thead th {\n",
       "        text-align: right;\n",
       "    }\n",
       "</style>\n",
       "<table border=\"1\" class=\"dataframe\">\n",
       "  <thead>\n",
       "    <tr style=\"text-align: right;\">\n",
       "      <th></th>\n",
       "      <th>Color</th>\n",
       "      <th>Legs</th>\n",
       "      <th>Height</th>\n",
       "      <th>Smelly</th>\n",
       "      <th>Species</th>\n",
       "      <th>Colored</th>\n",
       "      <th>Heights</th>\n",
       "      <th>Smellies</th>\n",
       "    </tr>\n",
       "  </thead>\n",
       "  <tbody>\n",
       "    <tr>\n",
       "      <th>0</th>\n",
       "      <td>white</td>\n",
       "      <td>3</td>\n",
       "      <td>short</td>\n",
       "      <td>yes</td>\n",
       "      <td>m</td>\n",
       "      <td>1</td>\n",
       "      <td>1</td>\n",
       "      <td>1</td>\n",
       "    </tr>\n",
       "    <tr>\n",
       "      <th>1</th>\n",
       "      <td>green</td>\n",
       "      <td>2</td>\n",
       "      <td>tall</td>\n",
       "      <td>no</td>\n",
       "      <td>m</td>\n",
       "      <td>0</td>\n",
       "      <td>0</td>\n",
       "      <td>0</td>\n",
       "    </tr>\n",
       "    <tr>\n",
       "      <th>2</th>\n",
       "      <td>green</td>\n",
       "      <td>3</td>\n",
       "      <td>short</td>\n",
       "      <td>yes</td>\n",
       "      <td>m</td>\n",
       "      <td>0</td>\n",
       "      <td>1</td>\n",
       "      <td>1</td>\n",
       "    </tr>\n",
       "    <tr>\n",
       "      <th>3</th>\n",
       "      <td>white</td>\n",
       "      <td>3</td>\n",
       "      <td>short</td>\n",
       "      <td>yes</td>\n",
       "      <td>m</td>\n",
       "      <td>1</td>\n",
       "      <td>1</td>\n",
       "      <td>1</td>\n",
       "    </tr>\n",
       "    <tr>\n",
       "      <th>4</th>\n",
       "      <td>green</td>\n",
       "      <td>2</td>\n",
       "      <td>short</td>\n",
       "      <td>no</td>\n",
       "      <td>h</td>\n",
       "      <td>0</td>\n",
       "      <td>1</td>\n",
       "      <td>0</td>\n",
       "    </tr>\n",
       "  </tbody>\n",
       "</table>\n",
       "</div>"
      ],
      "text/plain": [
       "   Color  Legs Height Smelly Species  Colored  Heights  Smellies\n",
       "0  white     3  short    yes       m        1        1         1\n",
       "1  green     2   tall     no       m        0        0         0\n",
       "2  green     3  short    yes       m        0        1         1\n",
       "3  white     3  short    yes       m        1        1         1\n",
       "4  green     2  short     no       h        0        1         0"
      ]
     },
     "execution_count": 10,
     "metadata": {},
     "output_type": "execute_result"
    }
   ],
   "source": [
    "df[\"Smellies\"]=df[\"Smelly\"].apply(lambda x : 1 if(x=='yes') else 0)\n",
    "df.head()"
   ]
  },
  {
   "cell_type": "code",
   "execution_count": 11,
   "id": "9d8735d9-ce4c-494c-b816-287a3d650c43",
   "metadata": {},
   "outputs": [
    {
     "data": {
      "text/html": [
       "<div>\n",
       "<style scoped>\n",
       "    .dataframe tbody tr th:only-of-type {\n",
       "        vertical-align: middle;\n",
       "    }\n",
       "\n",
       "    .dataframe tbody tr th {\n",
       "        vertical-align: top;\n",
       "    }\n",
       "\n",
       "    .dataframe thead th {\n",
       "        text-align: right;\n",
       "    }\n",
       "</style>\n",
       "<table border=\"1\" class=\"dataframe\">\n",
       "  <thead>\n",
       "    <tr style=\"text-align: right;\">\n",
       "      <th></th>\n",
       "      <th>Color</th>\n",
       "      <th>Legs</th>\n",
       "      <th>Height</th>\n",
       "      <th>Smelly</th>\n",
       "      <th>Species</th>\n",
       "      <th>Colored</th>\n",
       "      <th>Heights</th>\n",
       "      <th>Smellies</th>\n",
       "      <th>Outcomes</th>\n",
       "    </tr>\n",
       "  </thead>\n",
       "  <tbody>\n",
       "    <tr>\n",
       "      <th>0</th>\n",
       "      <td>white</td>\n",
       "      <td>3</td>\n",
       "      <td>short</td>\n",
       "      <td>yes</td>\n",
       "      <td>m</td>\n",
       "      <td>1</td>\n",
       "      <td>1</td>\n",
       "      <td>1</td>\n",
       "      <td>1</td>\n",
       "    </tr>\n",
       "    <tr>\n",
       "      <th>1</th>\n",
       "      <td>green</td>\n",
       "      <td>2</td>\n",
       "      <td>tall</td>\n",
       "      <td>no</td>\n",
       "      <td>m</td>\n",
       "      <td>0</td>\n",
       "      <td>0</td>\n",
       "      <td>0</td>\n",
       "      <td>1</td>\n",
       "    </tr>\n",
       "    <tr>\n",
       "      <th>2</th>\n",
       "      <td>green</td>\n",
       "      <td>3</td>\n",
       "      <td>short</td>\n",
       "      <td>yes</td>\n",
       "      <td>m</td>\n",
       "      <td>0</td>\n",
       "      <td>1</td>\n",
       "      <td>1</td>\n",
       "      <td>1</td>\n",
       "    </tr>\n",
       "    <tr>\n",
       "      <th>3</th>\n",
       "      <td>white</td>\n",
       "      <td>3</td>\n",
       "      <td>short</td>\n",
       "      <td>yes</td>\n",
       "      <td>m</td>\n",
       "      <td>1</td>\n",
       "      <td>1</td>\n",
       "      <td>1</td>\n",
       "      <td>1</td>\n",
       "    </tr>\n",
       "    <tr>\n",
       "      <th>4</th>\n",
       "      <td>green</td>\n",
       "      <td>2</td>\n",
       "      <td>short</td>\n",
       "      <td>no</td>\n",
       "      <td>h</td>\n",
       "      <td>0</td>\n",
       "      <td>1</td>\n",
       "      <td>0</td>\n",
       "      <td>0</td>\n",
       "    </tr>\n",
       "  </tbody>\n",
       "</table>\n",
       "</div>"
      ],
      "text/plain": [
       "   Color  Legs Height Smelly Species  Colored  Heights  Smellies  Outcomes\n",
       "0  white     3  short    yes       m        1        1         1         1\n",
       "1  green     2   tall     no       m        0        0         0         1\n",
       "2  green     3  short    yes       m        0        1         1         1\n",
       "3  white     3  short    yes       m        1        1         1         1\n",
       "4  green     2  short     no       h        0        1         0         0"
      ]
     },
     "execution_count": 11,
     "metadata": {},
     "output_type": "execute_result"
    }
   ],
   "source": [
    "df[\"Outcomes\"]=df[\"Species\"].apply(lambda x : 1 if(x=='m') else 0)\n",
    "df.head()"
   ]
  },
  {
   "cell_type": "markdown",
   "id": "ff1d2f48-4ddf-4e6c-948e-abeb74128067",
   "metadata": {},
   "source": [
    "### Feature Selection\n",
    "\n",
    "\n",
    "Let's define feature sets, X:"
   ]
  },
  {
   "cell_type": "code",
   "execution_count": 12,
   "id": "01058c6c-6dc1-4feb-b662-856c31ee6f80",
   "metadata": {},
   "outputs": [
    {
     "data": {
      "text/html": [
       "<div>\n",
       "<style scoped>\n",
       "    .dataframe tbody tr th:only-of-type {\n",
       "        vertical-align: middle;\n",
       "    }\n",
       "\n",
       "    .dataframe tbody tr th {\n",
       "        vertical-align: top;\n",
       "    }\n",
       "\n",
       "    .dataframe thead th {\n",
       "        text-align: right;\n",
       "    }\n",
       "</style>\n",
       "<table border=\"1\" class=\"dataframe\">\n",
       "  <thead>\n",
       "    <tr style=\"text-align: right;\">\n",
       "      <th></th>\n",
       "      <th>Colored</th>\n",
       "      <th>Legs</th>\n",
       "      <th>Heights</th>\n",
       "      <th>Smellies</th>\n",
       "    </tr>\n",
       "  </thead>\n",
       "  <tbody>\n",
       "    <tr>\n",
       "      <th>0</th>\n",
       "      <td>1</td>\n",
       "      <td>3</td>\n",
       "      <td>1</td>\n",
       "      <td>1</td>\n",
       "    </tr>\n",
       "    <tr>\n",
       "      <th>1</th>\n",
       "      <td>0</td>\n",
       "      <td>2</td>\n",
       "      <td>0</td>\n",
       "      <td>0</td>\n",
       "    </tr>\n",
       "    <tr>\n",
       "      <th>2</th>\n",
       "      <td>0</td>\n",
       "      <td>3</td>\n",
       "      <td>1</td>\n",
       "      <td>1</td>\n",
       "    </tr>\n",
       "    <tr>\n",
       "      <th>3</th>\n",
       "      <td>1</td>\n",
       "      <td>3</td>\n",
       "      <td>1</td>\n",
       "      <td>1</td>\n",
       "    </tr>\n",
       "    <tr>\n",
       "      <th>4</th>\n",
       "      <td>0</td>\n",
       "      <td>2</td>\n",
       "      <td>1</td>\n",
       "      <td>0</td>\n",
       "    </tr>\n",
       "  </tbody>\n",
       "</table>\n",
       "</div>"
      ],
      "text/plain": [
       "   Colored  Legs  Heights  Smellies\n",
       "0        1     3        1         1\n",
       "1        0     2        0         0\n",
       "2        0     3        1         1\n",
       "3        1     3        1         1\n",
       "4        0     2        1         0"
      ]
     },
     "execution_count": 12,
     "metadata": {},
     "output_type": "execute_result"
    }
   ],
   "source": [
    "X=df[[\"Colored\",\"Legs\",\"Heights\",\"Smellies\"]]\n",
    "X[:5]"
   ]
  },
  {
   "cell_type": "markdown",
   "id": "bf6c3b91-4c9b-4188-b9f8-3c454982e5a2",
   "metadata": {},
   "source": [
    "What will be our lables?"
   ]
  },
  {
   "cell_type": "code",
   "execution_count": 13,
   "id": "f91e7e80-c6a4-467c-ad4b-825b5e3794ee",
   "metadata": {},
   "outputs": [
    {
     "data": {
      "text/plain": [
       "array([1, 1, 1, 1, 0], dtype=int64)"
      ]
     },
     "execution_count": 13,
     "metadata": {},
     "output_type": "execute_result"
    }
   ],
   "source": [
    "y=df[\"Outcomes\"].values\n",
    "y[:5]"
   ]
  },
  {
   "cell_type": "markdown",
   "id": "ad6ad654-9aab-4238-8b0b-7a3c0d036d1e",
   "metadata": {},
   "source": [
    "## Normalize Data\n",
    "\n",
    "\n",
    "Data Standardization give data zero mean and unit variance"
   ]
  },
  {
   "cell_type": "code",
   "execution_count": 14,
   "id": "c032cb1d-8642-4bb1-a2bf-0fbb72090227",
   "metadata": {},
   "outputs": [],
   "source": [
    "from sklearn import preprocessing\n",
    "from sklearn.preprocessing import StandardScaler"
   ]
  },
  {
   "cell_type": "code",
   "execution_count": 15,
   "id": "7976ac83-f716-43fd-a9c1-b60ebc180326",
   "metadata": {},
   "outputs": [
    {
     "data": {
      "text/plain": [
       "array([[ 0.79582243,  1.25656172,  0.72886899,  0.9797959 ],\n",
       "       [-1.25656172, -0.79582243, -1.37198868, -1.02062073],\n",
       "       [-1.25656172,  1.25656172,  0.72886899,  0.9797959 ],\n",
       "       [ 0.79582243,  1.25656172,  0.72886899,  0.9797959 ],\n",
       "       [-1.25656172, -0.79582243,  0.72886899, -1.02062073]])"
      ]
     },
     "execution_count": 15,
     "metadata": {},
     "output_type": "execute_result"
    }
   ],
   "source": [
    "X=preprocessing.StandardScaler().fit(X).transform(X)\n",
    "X[0:5]"
   ]
  },
  {
   "cell_type": "markdown",
   "id": "d7401c63-f807-406e-b746-6ff88558e8f5",
   "metadata": {},
   "source": [
    "## Train Test Split"
   ]
  },
  {
   "cell_type": "code",
   "execution_count": 16,
   "id": "03604730-0ebc-4642-a4fc-4a83ab70c49e",
   "metadata": {},
   "outputs": [
    {
     "name": "stdout",
     "output_type": "stream",
     "text": [
      "Train set: (39, 4) (39,)\n",
      "Test set: (10, 4) (10,)\n"
     ]
    }
   ],
   "source": [
    "from sklearn.model_selection import train_test_split\n",
    "\n",
    "X_train, X_test, y_train, y_test = train_test_split( X, y, test_size=0.2, random_state=4)\n",
    "\n",
    "print ('Train set:', X_train.shape,  y_train.shape)\n",
    "print ('Test set:', X_test.shape,  y_test.shape)\n"
   ]
  },
  {
   "cell_type": "markdown",
   "id": "7f7d8157-a2ca-42a0-ab66-820f230239fa",
   "metadata": {},
   "source": [
    "## Naive Bayes Classifiers"
   ]
  },
  {
   "cell_type": "code",
   "execution_count": 17,
   "id": "39d85238-f110-4b4c-8f69-e6dc35a1db90",
   "metadata": {},
   "outputs": [],
   "source": [
    "from sklearn.naive_bayes import GaussianNB"
   ]
  },
  {
   "cell_type": "code",
   "execution_count": 18,
   "id": "fe54a40c-8b4c-454d-a572-a6c907977bb2",
   "metadata": {},
   "outputs": [
    {
     "data": {
      "text/plain": [
       "GaussianNB()"
      ]
     },
     "execution_count": 18,
     "metadata": {},
     "output_type": "execute_result"
    }
   ],
   "source": [
    "gnb=GaussianNB()\n",
    "gnb.fit(X_train, y_train)"
   ]
  },
  {
   "cell_type": "code",
   "execution_count": 19,
   "id": "3fdbc966-eea9-472c-b255-4ae138fc2451",
   "metadata": {},
   "outputs": [
    {
     "data": {
      "text/plain": [
       "array([0, 0, 1, 0, 0], dtype=int64)"
      ]
     },
     "execution_count": 19,
     "metadata": {},
     "output_type": "execute_result"
    }
   ],
   "source": [
    "#After being fitted, the model can then be used to predict new values\n",
    "\n",
    "yhat = gnb.predict(X_test)\n",
    "yhat [0:5]"
   ]
  },
  {
   "cell_type": "markdown",
   "id": "58e1fc62-9c94-4650-b995-87da735c3c68",
   "metadata": {},
   "source": [
    "## Evaluation\n",
    "\n",
    "\n",
    "Next, let's import metrics from sklearn and check the accuracy of our model."
   ]
  },
  {
   "cell_type": "code",
   "execution_count": 20,
   "id": "56fbb34d-0652-4816-be73-131f62d6aa77",
   "metadata": {},
   "outputs": [],
   "source": [
    "from sklearn import metrics"
   ]
  },
  {
   "cell_type": "code",
   "execution_count": 21,
   "id": "979ae12f-330f-41cc-9f00-884b0e8d39ae",
   "metadata": {},
   "outputs": [
    {
     "name": "stdout",
     "output_type": "stream",
     "text": [
      "Gaussian Naive Bayes model accuracy: 0.9\n"
     ]
    }
   ],
   "source": [
    "print(\"Gaussian Naive Bayes model accuracy:\", metrics.accuracy_score(y_test, yhat))"
   ]
  },
  {
   "cell_type": "code",
   "execution_count": 22,
   "id": "f1118e9f-7444-40f5-a93d-371c76f00a22",
   "metadata": {},
   "outputs": [],
   "source": [
    "from sklearn.metrics import accuracy_score"
   ]
  },
  {
   "cell_type": "markdown",
   "id": "ddcaff84-599d-4385-94b2-8196bde4aca0",
   "metadata": {},
   "source": [
    "## Making a Predictive Machine"
   ]
  },
  {
   "cell_type": "code",
   "execution_count": 23,
   "id": "a9fc28c1-542e-4d08-be43-574b8c6f8b57",
   "metadata": {},
   "outputs": [
    {
     "name": "stdout",
     "output_type": "stream",
     "text": [
      "[[0. 0. 0. 0.]]\n",
      "[1]\n",
      "The lavel is M\n"
     ]
    }
   ],
   "source": [
    "input_data =(1,3,1,1)\n",
    "\n",
    "#changing the input data to numpy array\n",
    "input_data_as_numpy_array = np.asarray(input_data)\n",
    "\n",
    "\n",
    "#reshape the array as we are predicting for one instance\n",
    "input_data_reshape = input_data_as_numpy_array.reshape(1,-1)\n",
    "\n",
    "#standardized the input data\n",
    "std_data=StandardScaler().fit(input_data_reshape).transform(input_data_reshape)\n",
    "print(std_data)\n",
    "\n",
    "prediction = gnb.predict(std_data)\n",
    "print(prediction)\n",
    "\n",
    "\n",
    "if(prediction[0] == 0):\n",
    "    \n",
    "    print(\"The lavel is H \")\n",
    "    \n",
    "else :\n",
    "    \n",
    "    print(\"The lavel is M\")"
   ]
  },
  {
   "cell_type": "code",
   "execution_count": null,
   "id": "3d149ce0-31a2-49fd-a8ad-e7831104708c",
   "metadata": {},
   "outputs": [],
   "source": []
  }
 ],
 "metadata": {
  "kernelspec": {
   "display_name": "Python 3 (ipykernel)",
   "language": "python",
   "name": "python3"
  },
  "language_info": {
   "codemirror_mode": {
    "name": "ipython",
    "version": 3
   },
   "file_extension": ".py",
   "mimetype": "text/x-python",
   "name": "python",
   "nbconvert_exporter": "python",
   "pygments_lexer": "ipython3",
   "version": "3.9.13"
  }
 },
 "nbformat": 4,
 "nbformat_minor": 5
}
