{
 "cells": [
  {
   "cell_type": "code",
   "execution_count": 2,
   "id": "6190c147-73c0-46bd-a84d-b607ad602cb8",
   "metadata": {},
   "outputs": [
    {
     "data": {
      "text/plain": [
       "['Michael Jackson', 10.1, 1982]"
      ]
     },
     "execution_count": 2,
     "metadata": {},
     "output_type": "execute_result"
    }
   ],
   "source": [
    "# Create a list\n",
    "L = [\"Michael Jackson\", 10.1, 1982]\n",
    "L"
   ]
  },
  {
   "cell_type": "code",
   "execution_count": 8,
   "id": "935530e1-f67d-411d-bb9d-827419d75303",
   "metadata": {},
   "outputs": [
    {
     "name": "stdout",
     "output_type": "stream",
     "text": [
      "\n",
      "the same element using negative and positive indexing: \n",
      " Positive :  Michael Jackson  \n",
      " Negative :  Michael Jackson\n",
      "\n",
      "the same element using negative and positive indexing: \n",
      " Positive : 10.1  \n",
      " Negative :  10.1\n",
      "\n",
      "the same element using negative and positive indexing: \n",
      " Positive : 1982  \n",
      " Negative :  1982\n"
     ]
    }
   ],
   "source": [
    "# Print the elements on each index\n",
    "\n",
    "print('\\nthe same element using negative and positive indexing: \\n Positive : ', L[0],' \\n Negative : ', L[-3])\n",
    "print('\\nthe same element using negative and positive indexing: \\n Positive :', L[1], ' \\n Negative : ', L[-2])\n",
    "print('\\nthe same element using negative and positive indexing: \\n Positive :', L[2], ' \\n Negative : ', L[-1])"
   ]
  },
  {
   "cell_type": "code",
   "execution_count": 9,
   "id": "9ffc66fd-6532-4a9b-b682-5bb4adcc5957",
   "metadata": {},
   "outputs": [
    {
     "data": {
      "text/plain": [
       "['Michael Jackson', 10.1, 1982, [1, 2], ['A', 1]]"
      ]
     },
     "execution_count": 9,
     "metadata": {},
     "output_type": "execute_result"
    }
   ],
   "source": [
    "# Sample List\n",
    "\n",
    "[\"Michael Jackson\", 10.1, 1982, [1, 2], [\"A\", 1]]"
   ]
  },
  {
   "cell_type": "code",
   "execution_count": 10,
   "id": "612ea87e-201c-452f-a306-064f61718751",
   "metadata": {},
   "outputs": [
    {
     "data": {
      "text/plain": [
       "['Michael Jackson', 10.1, 1982, 'MJ', 1]"
      ]
     },
     "execution_count": 10,
     "metadata": {},
     "output_type": "execute_result"
    }
   ],
   "source": [
    "# Sample List\n",
    "\n",
    "L = [\"Michael Jackson\", 10.1,1982,\"MJ\",1]\n",
    "L"
   ]
  },
  {
   "cell_type": "code",
   "execution_count": 13,
   "id": "a9ac7b36-bbec-4daf-91ae-ae9a8920645d",
   "metadata": {},
   "outputs": [
    {
     "data": {
      "text/plain": [
       "['MJ', 1]"
      ]
     },
     "execution_count": 13,
     "metadata": {},
     "output_type": "execute_result"
    }
   ],
   "source": [
    "# List slicing\n",
    "\n",
    "L[3:5]"
   ]
  },
  {
   "cell_type": "code",
   "execution_count": 16,
   "id": "9c4945f9-694a-4129-968b-64590734d690",
   "metadata": {},
   "outputs": [
    {
     "data": {
      "text/plain": [
       "['Michael Jackson', 10.1, 1982, 'MJ', 1, 'pop', 10]"
      ]
     },
     "execution_count": 16,
     "metadata": {},
     "output_type": "execute_result"
    }
   ],
   "source": [
    "# Use extend to add elements to list\n",
    "L = [\"Michael Jackson\", 10.1,1982,\"MJ\",1]\n",
    "L.extend(['pop', 10])\n",
    "L\n"
   ]
  },
  {
   "cell_type": "code",
   "execution_count": 19,
   "id": "2ea38fdd-3cda-41dc-b182-9a1cada94223",
   "metadata": {},
   "outputs": [
    {
     "data": {
      "text/plain": [
       "['Michael Jackson', 10.1, 1982, 'MJ', 1, ['pop', 10]]"
      ]
     },
     "execution_count": 19,
     "metadata": {},
     "output_type": "execute_result"
    }
   ],
   "source": [
    "# Use append to add elements to list\n",
    "L = [\"Michael Jackson\", 10.1,1982,\"MJ\",1]\n",
    "L.append(['pop', 10])\n",
    "L"
   ]
  },
  {
   "cell_type": "code",
   "execution_count": 23,
   "id": "c99bd6d6-1371-4008-9ed0-e15df461886f",
   "metadata": {},
   "outputs": [
    {
     "data": {
      "text/plain": [
       "['Michael Jackson', 10.2, ['a', 'b']]"
      ]
     },
     "execution_count": 23,
     "metadata": {},
     "output_type": "execute_result"
    }
   ],
   "source": [
    "# If we append the list ['a','b'] we have one new element consisting of a nested list:\n",
    "# Use append to add elements to list\n",
    "\n",
    "L = [ \"Michael Jackson\", 10.2]\n",
    "L.append(['a','b'])\n",
    "L"
   ]
  },
  {
   "cell_type": "code",
   "execution_count": 24,
   "id": "5c2e9f0a-11a4-4ec1-ac89-ce5a5bc9df8c",
   "metadata": {},
   "outputs": [
    {
     "name": "stdout",
     "output_type": "stream",
     "text": [
      "Before change: ['disco', 10, 1.2]\n",
      "After change: ['Hard dock', 10, 1.2]\n"
     ]
    }
   ],
   "source": [
    "# Change the element based on the index\n",
    "\n",
    "A = [\"disco\", 10, 1.2]\n",
    "print('Before change:', A)\n",
    "A[0] = \"Hard dock\"\n",
    "print('After change:', A)\n"
   ]
  },
  {
   "cell_type": "code",
   "execution_count": 27,
   "id": "c0317d33-7ccf-445a-9a5a-1fef7128b1c5",
   "metadata": {},
   "outputs": [
    {
     "name": "stdout",
     "output_type": "stream",
     "text": [
      "Before change: ['Hard dock', 10, 1.2]\n",
      "After change: [10, 1.2]\n"
     ]
    }
   ],
   "source": [
    "# Delete the element based on the index\n",
    "\n",
    "print('Before change:', A)\n",
    "del(A[0])\n",
    "print('After change:', A)"
   ]
  },
  {
   "cell_type": "code",
   "execution_count": 33,
   "id": "eda17c29-9663-4e64-b78c-a9603c161a0b",
   "metadata": {},
   "outputs": [
    {
     "data": {
      "text/plain": [
       "['Hard', 'dock']"
      ]
     },
     "execution_count": 33,
     "metadata": {},
     "output_type": "execute_result"
    }
   ],
   "source": [
    "# Split the string, default is by space\n",
    "'Hard dock'.split()\n",
    "#'Hard dock'.split(\",\")"
   ]
  },
  {
   "cell_type": "code",
   "execution_count": 37,
   "id": "dd2119ff-d7be-43a5-aed3-928b379057b8",
   "metadata": {},
   "outputs": [
    {
     "data": {
      "text/plain": [
       "['A', 'B', 'C', 'D']"
      ]
     },
     "execution_count": 37,
     "metadata": {},
     "output_type": "execute_result"
    }
   ],
   "source": [
    "# Split the string by comma\n",
    "'A,B,C,D'.split(',')"
   ]
  },
  {
   "cell_type": "code",
   "execution_count": 39,
   "id": "8629a8dd-5f5f-48b6-beb2-b319ca3fbc26",
   "metadata": {},
   "outputs": [
    {
     "name": "stdout",
     "output_type": "stream",
     "text": [
      "A :  ['Hard rock', 10.2, 1982]\n",
      "B :  ['Hard rock', 10.2, 1982]\n"
     ]
    }
   ],
   "source": [
    "# Copy (copy by reference) the list A\n",
    "A = [\"Hard rock\", 10.2, 1982]\n",
    "B = A\n",
    "print(\"A : \", A)\n",
    "print(\"B : \", B)"
   ]
  },
  {
   "cell_type": "code",
   "execution_count": 41,
   "id": "f9782358-76c6-4d13-9a81-2aca2c3e277c",
   "metadata": {},
   "outputs": [
    {
     "name": "stdout",
     "output_type": "stream",
     "text": [
      "B[0] :  Hard rock\n",
      "B[0] :  Banana\n"
     ]
    }
   ],
   "source": [
    "print(\"B[0] : \",B[0])\n",
    "A[0] = \"Banana\"\n",
    "print(\"B[0] : \",B[0])"
   ]
  },
  {
   "cell_type": "code",
   "execution_count": 42,
   "id": "674d10fa-74a2-49e7-a6e7-c7aec26a4089",
   "metadata": {},
   "outputs": [
    {
     "data": {
      "text/plain": [
       "['Banana', 10.2, 1982]"
      ]
     },
     "execution_count": 42,
     "metadata": {},
     "output_type": "execute_result"
    }
   ],
   "source": [
    "# Clone (clone by value) the list A\n",
    "\n",
    "B = A[:]\n",
    "B"
   ]
  },
  {
   "cell_type": "code",
   "execution_count": 43,
   "id": "2fbef7c2-8ee5-4a56-abb2-9a494fbcb05d",
   "metadata": {},
   "outputs": [
    {
     "name": "stdout",
     "output_type": "stream",
     "text": [
      "B[0]: Banana\n",
      "B[0]: Banana\n"
     ]
    }
   ],
   "source": [
    "print('B[0]:', B[0])\n",
    "A[0] = \"hard rock\"\n",
    "print('B[0]:', B[0])"
   ]
  },
  {
   "cell_type": "code",
   "execution_count": 44,
   "id": "81af0481-cabd-4bad-af53-b3490b7bf219",
   "metadata": {},
   "outputs": [
    {
     "data": {
      "text/plain": [
       "[1, 'hello', [1, 2, 3], True]"
      ]
     },
     "execution_count": 44,
     "metadata": {},
     "output_type": "execute_result"
    }
   ],
   "source": [
    "#Create a list a_list, with the following elements 1, hello, [1,2,3] and True.\n",
    "# Write your code below and press Shift+Enter to execute\n",
    "a_list = [1, 'hello', [1,2,3], True]\n",
    "a_list"
   ]
  },
  {
   "cell_type": "code",
   "execution_count": 45,
   "id": "df691cc1-e315-4ebc-8029-e0013fb61acc",
   "metadata": {},
   "outputs": [
    {
     "data": {
      "text/plain": [
       "'hello'"
      ]
     },
     "execution_count": 45,
     "metadata": {},
     "output_type": "execute_result"
    }
   ],
   "source": [
    "# Find the value stored at index 1 of a_list.\n",
    "# Write your code below and press Shift+Enter to execute\n",
    "a_list[1]"
   ]
  },
  {
   "cell_type": "code",
   "execution_count": 46,
   "id": "679752c4-3c1a-4f9f-9b5e-2cf731ffd857",
   "metadata": {},
   "outputs": [
    {
     "data": {
      "text/plain": [
       "['hello', [1, 2, 3], True]"
      ]
     },
     "execution_count": 46,
     "metadata": {},
     "output_type": "execute_result"
    }
   ],
   "source": [
    "# Retrieve the elements stored at index 1, 2 and 3 of a_list.\n",
    "# Write your code below and press Shift+Enter to execute\n",
    "a_list[1:4]"
   ]
  },
  {
   "cell_type": "code",
   "execution_count": 50,
   "id": "2bbb8d3b-9306-4b42-8634-6b6eb57354c9",
   "metadata": {},
   "outputs": [
    {
     "data": {
      "text/plain": [
       "[1, 'a', 2, 1, 'd']"
      ]
     },
     "execution_count": 50,
     "metadata": {},
     "output_type": "execute_result"
    }
   ],
   "source": [
    "# Concatenate the following lists A = [1, 'a'] and B = [2, 1, 'd']:\n",
    "A= [1, \"a\"]\n",
    "\n",
    "B = [2, 1, 'd']\n",
    "A+B"
   ]
  },
  {
   "cell_type": "code",
   "execution_count": null,
   "id": "c9a3a55c-7035-46a4-8ba6-de4e48544f65",
   "metadata": {},
   "outputs": [],
   "source": []
  }
 ],
 "metadata": {
  "kernelspec": {
   "display_name": "Python",
   "language": "python",
   "name": "conda-env-python-py"
  },
  "language_info": {
   "codemirror_mode": {
    "name": "ipython",
    "version": 3
   },
   "file_extension": ".py",
   "mimetype": "text/x-python",
   "name": "python",
   "nbconvert_exporter": "python",
   "pygments_lexer": "ipython3",
   "version": "3.7.12"
  }
 },
 "nbformat": 4,
 "nbformat_minor": 5
}
