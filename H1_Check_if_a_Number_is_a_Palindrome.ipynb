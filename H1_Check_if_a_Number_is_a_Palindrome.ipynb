{
  "nbformat": 4,
  "nbformat_minor": 0,
  "metadata": {
    "colab": {
      "provenance": []
    },
    "kernelspec": {
      "name": "python3",
      "display_name": "Python 3"
    },
    "language_info": {
      "name": "python"
    }
  },
  "cells": [
    {
      "cell_type": "markdown",
      "source": [
        "This is a Python Program to check whether a given number is a palindrome. The program takes a number and checks whether it is a palindrome or not."
      ],
      "metadata": {
        "id": "e4uUhCyTUJPf"
      }
    },
    {
      "cell_type": "markdown",
      "source": [
        "# Problem Solution:\n",
        "\n",
        "1. Take the value of the integer and store in a variable.\n",
        "2. Transfer the value of the integer into another temporary variable.\n",
        "3. Using a while loop, get each digit of the number and store the reversed number in another variable.\n",
        "4. Check if the reverse of the number is equal to the one in the temporary variable.\n",
        "5. Print the final result.\n",
        "6. Exit."
      ],
      "metadata": {
        "id": "FWVu6b87VLUF"
      }
    },
    {
      "cell_type": "code",
      "execution_count": null,
      "metadata": {
        "id": "GMw6EZM-t9MX",
        "colab": {
          "base_uri": "https://localhost:8080/"
        },
        "outputId": "2e03bb75-9d71-4a45-c205-978b747a9414"
      },
      "outputs": [
        {
          "output_type": "stream",
          "name": "stdout",
          "text": [
            "Enter your number : 121\n",
            "The number is a Plaindrome!\n"
          ]
        }
      ],
      "source": [
        "number=int(input(\"Enter your number : \"))\n",
        "\n",
        "#store a copy of this number\n",
        "temp=number\n",
        "\n",
        "#calculate reverse of this number\n",
        "reverse_num=0\n",
        "\n",
        "while(number > 0):\n",
        "  #extract last digit of this number\n",
        "  digit=number%10\n",
        "\n",
        "  #append this digit in reverse number\n",
        "  reverse_num=reverse_num*10+digit\n",
        "\n",
        "  #divide the number leave out the last digit of number\n",
        "  number=number//10\n",
        "\n",
        "#compare reverse number with original number\n",
        "if(temp == reverse_num):\n",
        "  print(\"The number is a Plaindrome!\")\n",
        "\n",
        "else:\n",
        "  print(\"The number isn't a Plaindrome!\")"
      ]
    },
    {
      "cell_type": "code",
      "source": [],
      "metadata": {
        "id": "MVZ7UvweuBQa"
      },
      "execution_count": null,
      "outputs": []
    }
  ]
}