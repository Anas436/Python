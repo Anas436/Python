{
 "cells": [
  {
   "cell_type": "code",
   "execution_count": 1,
   "id": "580c9fa6-7f8c-44ce-bff1-8705cd4a8101",
   "metadata": {},
   "outputs": [],
   "source": [
    "import pandas as pd\n",
    "import numpy as np\n",
    "import json"
   ]
  },
  {
   "cell_type": "code",
   "execution_count": 2,
   "id": "212e5893-e53d-4db1-aac5-5756a9c8c0be",
   "metadata": {},
   "outputs": [],
   "source": [
    "person = {\n",
    "    'first_name' : 'Mark',\n",
    "    'last_name' : 'abc',\n",
    "    'age' : 27,\n",
    "    'address': {\n",
    "        \"streetAddress\": \"21 2nd Street\",\n",
    "        \"city\": \"New York\",\n",
    "        \"state\": \"NY\",\n",
    "        \"postalCode\": \"10021-3100\"\n",
    "    }\n",
    "}"
   ]
  },
  {
   "cell_type": "code",
   "execution_count": 3,
   "id": "ed095071-14e6-47f6-b398-4302b42084ed",
   "metadata": {},
   "outputs": [
    {
     "data": {
      "text/plain": [
       "{'first_name': 'Mark',\n",
       " 'last_name': 'abc',\n",
       " 'age': 27,\n",
       " 'address': {'streetAddress': '21 2nd Street',\n",
       "  'city': 'New York',\n",
       "  'state': 'NY',\n",
       "  'postalCode': '10021-3100'}}"
      ]
     },
     "execution_count": 3,
     "metadata": {},
     "output_type": "execute_result"
    }
   ],
   "source": [
    "person"
   ]
  },
  {
   "cell_type": "code",
   "execution_count": 4,
   "id": "73403e4a-110c-4d75-aaf5-9b46942374e1",
   "metadata": {},
   "outputs": [],
   "source": [
    "with open('person.json', 'w') as f: # writing JSON object\n",
    "    \n",
    "    json.dump(person, f)\n",
    "    "
   ]
  },
  {
   "cell_type": "code",
   "execution_count": 11,
   "id": "a3b020ee-63b6-4e9e-aed4-c0afedf4604c",
   "metadata": {},
   "outputs": [],
   "source": [
    "# Serializing json  \n",
    "json_object = json.dumps(person, indent = 4) \n",
    "  \n",
    "# Writing to sample.json \n",
    "with open(\"sample.json\", \"w\") as outfile: \n",
    "    outfile.write(json_object) "
   ]
  },
  {
   "cell_type": "code",
   "execution_count": 12,
   "id": "0ae0e068-b4aa-4204-803b-107b808d4b9e",
   "metadata": {},
   "outputs": [
    {
     "name": "stdout",
     "output_type": "stream",
     "text": [
      "{\n",
      "    \"first_name\": \"Mark\",\n",
      "    \"last_name\": \"abc\",\n",
      "    \"age\": 27,\n",
      "    \"address\": {\n",
      "        \"streetAddress\": \"21 2nd Street\",\n",
      "        \"city\": \"New York\",\n",
      "        \"state\": \"NY\",\n",
      "        \"postalCode\": \"10021-3100\"\n",
      "    }\n",
      "}\n"
     ]
    }
   ],
   "source": [
    "print(json_object)"
   ]
  },
  {
   "cell_type": "code",
   "execution_count": 18,
   "id": "14a7f614-c7a3-42ec-aafc-99a4e74acdbf",
   "metadata": {},
   "outputs": [
    {
     "name": "stdout",
     "output_type": "stream",
     "text": [
      "{'first_name': 'Mark', 'last_name': 'abc', 'age': 27, 'address': {'streetAddress': '21 2nd Street', 'city': 'New York', 'state': 'NY', 'postalCode': '10021-3100'}}\n",
      "<class 'dict'>\n"
     ]
    }
   ],
   "source": [
    "# Opening JSON file\n",
    "import json\n",
    "with open('sample.json', 'r') as openfile:\n",
    "    \n",
    "    # Reading from json file \n",
    "    json_object=json.load(openfile)\n",
    "    \n",
    "print(json_object)\n",
    "print(type(json_object))"
   ]
  },
  {
   "cell_type": "code",
   "execution_count": 19,
   "id": "304fcac9-f30b-49af-a124-47a3432ac926",
   "metadata": {},
   "outputs": [],
   "source": [
    "#Writing JSON to a File above all code format and reverseinto dict to dict to jason."
   ]
  },
  {
   "cell_type": "code",
   "execution_count": null,
   "id": "f76f515a-f1d4-4817-aa95-9e73a4d46bdf",
   "metadata": {},
   "outputs": [],
   "source": []
  }
 ],
 "metadata": {
  "kernelspec": {
   "display_name": "Python 3 (ipykernel)",
   "language": "python",
   "name": "python3"
  },
  "language_info": {
   "codemirror_mode": {
    "name": "ipython",
    "version": 3
   },
   "file_extension": ".py",
   "mimetype": "text/x-python",
   "name": "python",
   "nbconvert_exporter": "python",
   "pygments_lexer": "ipython3",
   "version": "3.9.7"
  }
 },
 "nbformat": 4,
 "nbformat_minor": 5
}
