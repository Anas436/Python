{
 "cells": [
  {
   "cell_type": "code",
   "execution_count": 1,
   "id": "fa40b67b-2e1e-4d1a-b1c0-23604f15550f",
   "metadata": {},
   "outputs": [],
   "source": [
    "from bs4 import BeautifulSoup\n",
    "import requests"
   ]
  },
  {
   "cell_type": "code",
   "execution_count": 2,
   "id": "e4841237-0098-4cbd-a40e-04e600ae9aa8",
   "metadata": {},
   "outputs": [],
   "source": [
    "url = \"http://www.ibm.com\""
   ]
  },
  {
   "cell_type": "code",
   "execution_count": 3,
   "id": "caffbf3a-9702-4237-8a4a-7b8126b8f18e",
   "metadata": {},
   "outputs": [],
   "source": [
    "#We use get to download the contents of the webpage in text format and store in a variable called data:\n",
    "\n",
    "data = requests.get(url).text"
   ]
  },
  {
   "cell_type": "code",
   "execution_count": 5,
   "id": "56c81733-4361-4e79-bc9e-cd4387870286",
   "metadata": {},
   "outputs": [],
   "source": [
    "soup=BeautifulSoup(data, \"html.parser\")  # create a soup object using the variable 'data'"
   ]
  },
  {
   "cell_type": "code",
   "execution_count": 11,
   "id": "254161d2-6e44-4ff3-8034-429bf6585251",
   "metadata": {},
   "outputs": [
    {
     "name": "stdout",
     "output_type": "stream",
     "text": [
      "https://www.ibm.com/bd/en\n",
      "https://www.ibm.com/sitemap/bd/en\n",
      "/in-en/products/z16?lnk=hpv18l1\n",
      "https://newsroom.ibm.com/Update-on-our-actions-War-in-Ukraine?lnk=ushpv18nf1\n",
      "https://www.ibm.com/it-infrastructure/us-en/resources/hybrid-multicloud-infrastructure-strategy/?lnk=hpv18f1\n",
      "https://www.ibm.com/cloud/in-en/aiops/?lnk=hpv18f2\n",
      "https://www.ibm.com/about/in-en/secure-your-business/?lnk=hpv18f3\n",
      "https://www.ibm.com/consulting/in-en/?lnk=hpv18f4\n",
      "/products/offers-and-discounts?lnk=hpv18t5\n",
      "/in-en/products/maximo?lnk=hpv18t1&psrc=NONE&pexp=DEF&lnk2=maas360\n",
      "/in-en/qradar?lnk=hpv18t2&psrc=NONE&lnk2=trial_Qradar&pexp=DEF\n",
      "/in-en/products/cloud-pak-for-data?lnk=hpv18t3&psrc=NONE&pexp=DEF&lnk2=trial_CloudPakData\n",
      "/in-en/cloud/free?lnk=hpv18t4&psrc=NONE&pexp=DEF&lnk2=trial_Cloud\n",
      "/in-en/cloud/watson-assistant?lnk=hpv18t4&psrc=NONE&lnk2=trial_AsperaCloud&pexp=DEF\n",
      "https://developer.ibm.com/?lnk=hpv18pd1\n",
      "https://developer.ibm.com/depmodels/cloud/?lnk=hpv18pd2\n",
      "https://developer.ibm.com/technologies/artificial-intelligence?lnk=hpv18pd3\n",
      "https://developer.ibm.com/articles?lnk=hpv18pd4\n",
      "https://www.ibm.com/docs/en?lnk=hpv18pd5\n",
      "https://www.ibm.com/training/?lnk=hpv18pd6\n",
      "https://developer.ibm.com/patterns/?lnk=hpv18pd7\n",
      "https://developer.ibm.com/tutorials/?lnk=hpv18pd8\n",
      "https://www.redbooks.ibm.com/?lnk=hpv18pd9\n",
      "https://www.ibm.com/support/home/?lnk=hpv18pd10\n",
      "/in-en/consulting?lnk=hpv18pb1\n",
      "/in-en/cloud/hybrid?lnk=hpv18pb2\n",
      "/in-en/watson?lnk=hpv18pb3\n",
      "/in-en/garage?lnk=hpv18pb4\n",
      "/in-en/blockchain?lnk=hpv18pb5\n",
      "https://www.ibm.com/thought-leadership/institute-business-value/?lnk=hpv18pb6\n",
      "/in-en/analytics?lnk=hpv18pb7\n",
      "/in-en/security?lnk=hpv18pb8\n",
      "/in-en/services/business?lnk=hpv18pb9\n",
      "/in-en/financing?lnk=hpv18pb10\n",
      "/in-en/cloud/redhat?lnk=hpv18pt1\n",
      "/in-en/cloud/automation?lnk=hpv18pt2\n",
      "/in-en/cloud/satellite?lnk=hpv18pt3\n",
      "/in-en/security/zero-trust?lnk=hpv18pt4\n",
      "/in-en/it-infrastructure?lnk=hpv18pt5\n",
      "https://www.ibm.com/quantum-computing?lnk=hpv18pt6\n",
      "/in-en/cloud/learn/kubernetes?lnk=hpv18pt7\n",
      "/in-en/products/spss-statistics?lnk=ushpv18pt8\n",
      "/in-en/blockchain?lnk=hpv18pt9\n",
      "https://www.ibm.com/in-en/employment?lnk=hpv18pt10\n",
      "https://www.ibm.com/case-studies/air-india-sats-airport-services-private-limited/?lnk=hpv18cs1\n",
      "/case-studies/search?lnk=hpv18cs2\n",
      "#\n"
     ]
    }
   ],
   "source": [
    "#Scrape all links\n",
    "\n",
    "for link in soup.find_all('a', href=True):\n",
    "    print(link.get('href'))  # in html anchor/link is represented by the tag <a>"
   ]
  },
  {
   "cell_type": "code",
   "execution_count": 18,
   "id": "ad27f514-0057-48b6-815c-a107f6b8a7e5",
   "metadata": {},
   "outputs": [
    {
     "name": "stdout",
     "output_type": "stream",
     "text": [
      "<img alt=\"hybrid cloud\" class=\"\" loading=\"lazy\" src=\"//1.cms.s81c.com/sites/default/files/2022-04-04/Original-20220316-26479-Forrester-Modernize-444x320.jpg\"/>\n",
      "//1.cms.s81c.com/sites/default/files/2022-04-04/Original-20220316-26479-Forrester-Modernize-444x320.jpg\n",
      "<img alt=\"Artificial Intelligence for IT Operations\" class=\"\" loading=\"lazy\" src=\"//1.cms.s81c.com/sites/default/files/2022-02-16/automate-five-levers-444x254.jpg\"/>\n",
      "//1.cms.s81c.com/sites/default/files/2022-02-16/automate-five-levers-444x254.jpg\n",
      "<img alt=\"security engineer\" class=\"\" loading=\"lazy\" src=\"//1.cms.s81c.com/sites/default/files/2022-02-16/security-five-levers-444x254.jpg\"/>\n",
      "//1.cms.s81c.com/sites/default/files/2022-02-16/security-five-levers-444x254.jpg\n",
      "<img alt=\"business consulting\" class=\"\" loading=\"lazy\" src=\"//1.cms.s81c.com/sites/default/files/2022-02-16/consulting-five-levers-444x254.jpg\"/>\n",
      "//1.cms.s81c.com/sites/default/files/2022-02-16/consulting-five-levers-444x254.jpg\n",
      "<img alt=\"Maximo screenshot\" class=\"\" loading=\"lazy\" src=\"//1.cms.s81c.com/sites/default/files/2022-03-28/Maximo.png\"/>\n",
      "//1.cms.s81c.com/sites/default/files/2022-03-28/Maximo.png\n",
      "<img alt=\"qradar\" class=\"\" loading=\"lazy\" src=\"//1.cms.s81c.com/sites/default/files/2021-10-25/QRadar-on-Cloud-21400-700x420.png\"/>\n",
      "//1.cms.s81c.com/sites/default/files/2021-10-25/QRadar-on-Cloud-21400-700x420.png\n",
      "<img alt=\"Cloud pak for data screenshot\" class=\"\" loading=\"lazy\" src=\"//1.cms.s81c.com/sites/default/files/2021-04-07/cloud-pak-for-data-trial.png\"/>\n",
      "//1.cms.s81c.com/sites/default/files/2021-04-07/cloud-pak-for-data-trial.png\n",
      "<img alt=\"screenshot of the IBM Cloud dashboard\" class=\"\" loading=\"lazy\" src=\"//1.cms.s81c.com/sites/default/files/2021-04-07/ibm-cloud-trial.png\"/>\n",
      "//1.cms.s81c.com/sites/default/files/2021-04-07/ibm-cloud-trial.png\n",
      "<img alt=\"screenshot of watson assistant\" class=\"\" loading=\"lazy\" src=\"//1.cms.s81c.com/sites/default/files/2021-08-17/Watson-Assistant-23212-700x420.png\"/>\n",
      "//1.cms.s81c.com/sites/default/files/2021-08-17/Watson-Assistant-23212-700x420.png\n"
     ]
    }
   ],
   "source": [
    "#Scrape all images Tags\n",
    "\n",
    "for link in soup.find_all('img'):\n",
    "    print(link)\n",
    "    print(link.get('src'))\n",
    "    #print(link.get('href'))"
   ]
  },
  {
   "cell_type": "code",
   "execution_count": null,
   "id": "7d01a17a-92dd-4ff2-bf96-42a97bd263ba",
   "metadata": {},
   "outputs": [],
   "source": []
  }
 ],
 "metadata": {
  "kernelspec": {
   "display_name": "Python 3 (ipykernel)",
   "language": "python",
   "name": "python3"
  },
  "language_info": {
   "codemirror_mode": {
    "name": "ipython",
    "version": 3
   },
   "file_extension": ".py",
   "mimetype": "text/x-python",
   "name": "python",
   "nbconvert_exporter": "python",
   "pygments_lexer": "ipython3",
   "version": "3.9.7"
  }
 },
 "nbformat": 4,
 "nbformat_minor": 5
}
