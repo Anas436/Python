{
  "nbformat": 4,
  "nbformat_minor": 0,
  "metadata": {
    "colab": {
      "provenance": []
    },
    "kernelspec": {
      "name": "python3",
      "display_name": "Python 3"
    },
    "language_info": {
      "name": "python"
    }
  },
  "cells": [
    {
      "cell_type": "markdown",
      "source": [
        "**You are given a value check whether that is independent or not.**"
      ],
      "metadata": {
        "id": "iB7aoqI32pIV"
      }
    },
    {
      "cell_type": "code",
      "execution_count": null,
      "metadata": {
        "id": "hCGzxqvnaNQG",
        "colab": {
          "base_uri": "https://localhost:8080/"
        },
        "outputId": "ea016b23-094e-4c3c-d94d-5e318e4ae142"
      },
      "outputs": [
        {
          "output_type": "stream",
          "name": "stdout",
          "text": [
            "R.H.S value of this event :  0.3\n",
            "L.H.S value of this event :  0.3\n",
            "\n",
            "A and B Independent Events!\n"
          ]
        }
      ],
      "source": [
        "#Declare event to check whether it's independent or not.\n",
        "Global_value=[1,2,3,4,5,6,7,8,9,10]\n",
        "A_value=[1,2,3,4,5,6]\n",
        "B_value=[2,4,6,8,10]\n",
        "\n",
        "#find P(A)\n",
        "P_of_A=len(A_value)/len(Global_value)\n",
        "\n",
        "#find P(B)\n",
        "P_of_B=len(B_value)/len(Global_value)\n",
        "\n",
        "#formula for R.H.S is P(AnB)=P(A).P(B)\n",
        "RHS=(P_of_A)*(P_of_B)\n",
        "print(\"R.H.S value of this event : \",RHS)\n",
        "\n",
        "#for L.H.S\n",
        "#store P(AnB) values also it will intersect between A and B\n",
        "flag=0\n",
        "\n",
        "for i in range(len(A_value)):\n",
        "  for j in range(len(B_value)):\n",
        "    if(A_value[i] == B_value[j]):\n",
        "      flag +=1\n",
        "\n",
        "LHS=flag/len(Global_value)\n",
        "print(\"L.H.S value of this event : \",LHS)\n",
        "\n",
        "if (RHS == LHS):\n",
        "  print(\"\\nA and B Independent Events!\")\n",
        "else:\n",
        "  print(\"\\nA and B not Independent Events!\")"
      ]
    },
    {
      "cell_type": "code",
      "source": [],
      "metadata": {
        "id": "I4iC-R935Y4S"
      },
      "execution_count": null,
      "outputs": []
    }
  ]
}