{
  "nbformat": 4,
  "nbformat_minor": 0,
  "metadata": {
    "colab": {
      "provenance": []
    },
    "kernelspec": {
      "name": "python3",
      "display_name": "Python 3"
    },
    "language_info": {
      "name": "python"
    }
  },
  "cells": [
    {
      "cell_type": "markdown",
      "source": [
        "**Name: Md. Anas Mondol**\n",
        "\n",
        "**ID: 1935202011**\n",
        "\n",
        "**Dept: CSE (Day)**\n",
        "\n",
        "**Batch: 52nd-(A)**\n",
        "**Gmail: mdanasmondol43@gmail.com**\n",
        "\n",
        "**City University of Bangladesh**"
      ],
      "metadata": {
        "id": "OFeKT7DkZs4b"
      }
    },
    {
      "cell_type": "code",
      "execution_count": 1,
      "metadata": {
        "id": "oejSn-0FdE3o",
        "colab": {
          "base_uri": "https://localhost:8080/",
          "height": 0
        },
        "outputId": "c491eb18-8233-4923-e157-47eddc9afa8e"
      },
      "outputs": [
        {
          "output_type": "stream",
          "name": "stdout",
          "text": [
            "Looking in indexes: https://pypi.org/simple, https://us-python.pkg.dev/colab-wheels/public/simple/\n",
            "Requirement already satisfied: numpy in /usr/local/lib/python3.7/dist-packages (1.21.6)\n"
          ]
        }
      ],
      "source": [
        "#install numpy library if theere not available.\n",
        "\n",
        "!pip install numpy"
      ]
    },
    {
      "cell_type": "code",
      "source": [
        "# import the NumPy module\n",
        "import numpy as np"
      ],
      "metadata": {
        "id": "aHfPUg72a3n1"
      },
      "execution_count": 2,
      "outputs": []
    },
    {
      "cell_type": "markdown",
      "source": [
        "__Q1. Create a `3*3` matrix with random values?__"
      ],
      "metadata": {
        "id": "8DUDnQOobas6"
      }
    },
    {
      "cell_type": "code",
      "source": [
        "#random() function of the numpy it will provide random values which we need for works.\n",
        "\n",
        "#argument row = 3, col = 3\n",
        "matrix1=np.random.random((3,3))\n",
        "matrix1"
      ],
      "metadata": {
        "colab": {
          "base_uri": "https://localhost:8080/",
          "height": 0
        },
        "id": "pKVuVgolbHH5",
        "outputId": "32837a42-88a3-4340-cf77-c7dfc547f07d"
      },
      "execution_count": 3,
      "outputs": [
        {
          "output_type": "execute_result",
          "data": {
            "text/plain": [
              "array([[0.77098784, 0.51694211, 0.9806971 ],\n",
              "       [0.75407093, 0.9558665 , 0.41161824],\n",
              "       [0.23609521, 0.84927044, 0.9905351 ]])"
            ]
          },
          "metadata": {},
          "execution_count": 3
        }
      ]
    },
    {
      "cell_type": "code",
      "source": [
        "#we can create using integer number with randint() function\n",
        "\n",
        "# 1st and 2nd argument numbers ranging from 10 to 20\n",
        "# 3rd argument, row = 3, col = 3\n",
        "\n",
        "matrix2=np.random.randint(10,20,size=(3,3))\n",
        "matrix2"
      ],
      "metadata": {
        "colab": {
          "base_uri": "https://localhost:8080/",
          "height": 0
        },
        "id": "pkiR9o9idNdD",
        "outputId": "a50ff9a1-0ea0-4f4d-dcb2-041fdcbeede9"
      },
      "execution_count": 4,
      "outputs": [
        {
          "output_type": "execute_result",
          "data": {
            "text/plain": [
              "array([[18, 19, 18],\n",
              "       [16, 19, 17],\n",
              "       [14, 12, 17]])"
            ]
          },
          "metadata": {},
          "execution_count": 4
        }
      ]
    },
    {
      "cell_type": "markdown",
      "source": [
        "__Q2. Find the values in the matrix of `Q1` which are greater than `0.5`?__"
      ],
      "metadata": {
        "id": "AJc2KdvoehFr"
      }
    },
    {
      "cell_type": "code",
      "source": [
        "#operator condition will return boolean array which will show True and False.\n",
        "#taken matrix1 from Q1 answer.\n",
        "\n",
        "greater_than1=matrix1 > 0.5\n",
        "greater_than1"
      ],
      "metadata": {
        "colab": {
          "base_uri": "https://localhost:8080/",
          "height": 0
        },
        "id": "_3Q7COn4d-ua",
        "outputId": "cf3c2f73-1d4d-4d9d-bc5a-e43d5fda9a0e"
      },
      "execution_count": 5,
      "outputs": [
        {
          "output_type": "execute_result",
          "data": {
            "text/plain": [
              "array([[ True,  True,  True],\n",
              "       [ True,  True, False],\n",
              "       [False,  True,  True]])"
            ]
          },
          "metadata": {},
          "execution_count": 5
        }
      ]
    },
    {
      "cell_type": "code",
      "source": [
        "#another way which will provide numerical values.\n",
        "\n",
        "greater_than2=matrix1[matrix1 > 0.5]\n",
        "greater_than2"
      ],
      "metadata": {
        "colab": {
          "base_uri": "https://localhost:8080/",
          "height": 0
        },
        "id": "wFmFK9xNhGay",
        "outputId": "26a7fb4f-08de-46bb-ceb5-74cfc3a4de2d"
      },
      "execution_count": 6,
      "outputs": [
        {
          "output_type": "execute_result",
          "data": {
            "text/plain": [
              "array([0.77098784, 0.51694211, 0.9806971 , 0.75407093, 0.9558665 ,\n",
              "       0.84927044, 0.9905351 ])"
            ]
          },
          "metadata": {},
          "execution_count": 6
        }
      ]
    },
    {
      "cell_type": "markdown",
      "source": [
        "__Q3. Convert this `2` dimensional matrix into `one` dimension array?__"
      ],
      "metadata": {
        "id": "9LxxKZcwghMV"
      }
    },
    {
      "cell_type": "code",
      "source": [
        "#we can create using integer number with randint() function\n",
        "# 1st argument numbers ranging up to 10\n",
        "# 2nd argument, row = 3, col = 3\n",
        "\n",
        "create_matrix=np.random.randint(10,size=(3,3))\n",
        "create_matrix"
      ],
      "metadata": {
        "colab": {
          "base_uri": "https://localhost:8080/",
          "height": 0
        },
        "id": "r-ytf4K9ftpa",
        "outputId": "92b85f37-5fb7-46bd-985b-e9b00ac58a3c"
      },
      "execution_count": 7,
      "outputs": [
        {
          "output_type": "execute_result",
          "data": {
            "text/plain": [
              "array([[9, 5, 6],\n",
              "       [8, 4, 2],\n",
              "       [1, 1, 8]])"
            ]
          },
          "metadata": {},
          "execution_count": 7
        }
      ]
    },
    {
      "cell_type": "code",
      "source": [
        "#ravel() function convert this 2D matrix into one dimension array. Also it is possible to do using reshape() functions.\n",
        "\n",
        "convert_array=create_matrix.ravel()\n",
        "convert_array"
      ],
      "metadata": {
        "colab": {
          "base_uri": "https://localhost:8080/",
          "height": 0
        },
        "id": "Q00f2ypLkopC",
        "outputId": "354aee77-136c-44e0-e8c5-6cacc1177322"
      },
      "execution_count": 8,
      "outputs": [
        {
          "output_type": "execute_result",
          "data": {
            "text/plain": [
              "array([9, 5, 6, 8, 4, 2, 1, 1, 8])"
            ]
          },
          "metadata": {},
          "execution_count": 8
        }
      ]
    },
    {
      "cell_type": "markdown",
      "source": [
        "__Q4. Create a `4*4` matrix `B` with random values and find its `Transpose`?__"
      ],
      "metadata": {
        "id": "sZ3X7kv3nO2F"
      }
    },
    {
      "cell_type": "code",
      "source": [
        "#random() function of the numpy it will provide random values which we need to works.\n",
        "#argument row = 4, col = 4\n",
        "\n",
        "B=np.random.random((4,4))\n",
        "B"
      ],
      "metadata": {
        "colab": {
          "base_uri": "https://localhost:8080/",
          "height": 0
        },
        "id": "epsybVjJnQYc",
        "outputId": "f798bbe9-57ee-42f2-b71e-920580d3a879"
      },
      "execution_count": 9,
      "outputs": [
        {
          "output_type": "execute_result",
          "data": {
            "text/plain": [
              "array([[0.99994498, 0.95535208, 0.09519544, 0.92036565],\n",
              "       [0.87652433, 0.09228306, 0.32943399, 0.87746289],\n",
              "       [0.4780699 , 0.57804858, 0.13694316, 0.0752912 ],\n",
              "       [0.68365204, 0.88562415, 0.96841856, 0.82534676]])"
            ]
          },
          "metadata": {},
          "execution_count": 9
        }
      ]
    },
    {
      "cell_type": "code",
      "source": [
        "#transpose() function can be invert the columns with the rows.\n",
        "\n",
        "transpose=B.transpose()\n",
        "transpose"
      ],
      "metadata": {
        "colab": {
          "base_uri": "https://localhost:8080/",
          "height": 0
        },
        "id": "ME4jFm30oZaF",
        "outputId": "e51175ad-5c44-4142-d509-d8b0703bfe7d"
      },
      "execution_count": 10,
      "outputs": [
        {
          "output_type": "execute_result",
          "data": {
            "text/plain": [
              "array([[0.99994498, 0.87652433, 0.4780699 , 0.68365204],\n",
              "       [0.95535208, 0.09228306, 0.57804858, 0.88562415],\n",
              "       [0.09519544, 0.32943399, 0.13694316, 0.96841856],\n",
              "       [0.92036565, 0.87746289, 0.0752912 , 0.82534676]])"
            ]
          },
          "metadata": {},
          "execution_count": 10
        }
      ]
    },
    {
      "cell_type": "markdown",
      "source": [
        "__Q5. Create a `4*4` matrix then convert it to `2*8` matrix ? [Horizontally and vertically]__"
      ],
      "metadata": {
        "id": "_HYMJ4sEmP8M"
      }
    },
    {
      "cell_type": "code",
      "source": [
        "#we can create using integer number with randint() function\n",
        "# 1st argument numbers ranging up to 10\n",
        "# 2nd argument, row = 4, col = 4\n",
        "\n",
        "convert_matrix=np.random.randint(10, size=(4,4))\n",
        "convert_matrix"
      ],
      "metadata": {
        "colab": {
          "base_uri": "https://localhost:8080/",
          "height": 0
        },
        "id": "s0mZlIyclH_B",
        "outputId": "e732b446-d607-43c2-f0a1-97a5c8ecab4d"
      },
      "execution_count": 11,
      "outputs": [
        {
          "output_type": "execute_result",
          "data": {
            "text/plain": [
              "array([[5, 6, 0, 3],\n",
              "       [1, 6, 1, 0],\n",
              "       [2, 8, 6, 0],\n",
              "       [2, 1, 5, 9]])"
            ]
          },
          "metadata": {},
          "execution_count": 11
        }
      ]
    },
    {
      "cell_type": "code",
      "source": [
        "#reshape() function provide new shape to an array without changing its data.\n",
        "\n",
        "re_convert=convert_matrix.reshape(2,8)\n",
        "re_convert"
      ],
      "metadata": {
        "colab": {
          "base_uri": "https://localhost:8080/",
          "height": 0
        },
        "id": "-nYNx9EQqlg7",
        "outputId": "a0697250-d77f-40ea-cc6b-b190be26980e"
      },
      "execution_count": 12,
      "outputs": [
        {
          "output_type": "execute_result",
          "data": {
            "text/plain": [
              "array([[5, 6, 0, 3, 1, 6, 1, 0],\n",
              "       [2, 8, 6, 0, 2, 1, 5, 9]])"
            ]
          },
          "metadata": {},
          "execution_count": 12
        }
      ]
    },
    {
      "cell_type": "code",
      "source": [
        "#hstack() function performs horizontal stacking\n",
        "\n",
        "horizontal=np.hstack(re_convert)\n",
        "horizontal"
      ],
      "metadata": {
        "colab": {
          "base_uri": "https://localhost:8080/",
          "height": 0
        },
        "id": "Rd9To3mVquxx",
        "outputId": "0a445e99-d981-45a1-b637-ceea692b5fcd"
      },
      "execution_count": 13,
      "outputs": [
        {
          "output_type": "execute_result",
          "data": {
            "text/plain": [
              "array([5, 6, 0, 3, 1, 6, 1, 0, 2, 8, 6, 0, 2, 1, 5, 9])"
            ]
          },
          "metadata": {},
          "execution_count": 13
        }
      ]
    },
    {
      "cell_type": "code",
      "source": [
        "#vstack() function can be perform vertical stacking\n",
        "\n",
        "vertical=np.vstack(re_convert)\n",
        "vertical"
      ],
      "metadata": {
        "colab": {
          "base_uri": "https://localhost:8080/",
          "height": 0
        },
        "id": "YKPCi6bqsSzq",
        "outputId": "d94d1bf5-d27c-4553-e56d-98d8ab1771d4"
      },
      "execution_count": 14,
      "outputs": [
        {
          "output_type": "execute_result",
          "data": {
            "text/plain": [
              "array([[5, 6, 0, 3, 1, 6, 1, 0],\n",
              "       [2, 8, 6, 0, 2, 1, 5, 9]])"
            ]
          },
          "metadata": {},
          "execution_count": 14
        }
      ]
    },
    {
      "cell_type": "markdown",
      "source": [
        "**Q6. Create a array of `8` items then copy this array to another variable?**"
      ],
      "metadata": {
        "id": "jp75pBy1t82Y"
      }
    },
    {
      "cell_type": "code",
      "source": [
        "array=np.arange(8)\n",
        "array"
      ],
      "metadata": {
        "colab": {
          "base_uri": "https://localhost:8080/",
          "height": 0
        },
        "id": "WtBcve1Usgfx",
        "outputId": "b4c7852c-a4ee-4482-bb81-e65a3ed7c9a8"
      },
      "execution_count": 15,
      "outputs": [
        {
          "output_type": "execute_result",
          "data": {
            "text/plain": [
              "array([0, 1, 2, 3, 4, 5, 6, 7])"
            ]
          },
          "metadata": {},
          "execution_count": 15
        }
      ]
    },
    {
      "cell_type": "code",
      "source": [
        "# copy() function helps to generate a complete and distinct array.\n",
        "\n",
        "copy_array=array.copy()\n",
        "copy_array"
      ],
      "metadata": {
        "colab": {
          "base_uri": "https://localhost:8080/",
          "height": 0
        },
        "id": "o7dgJyF-skHJ",
        "outputId": "a8432e1e-b323-4837-a96b-9fe2d43e54b4"
      },
      "execution_count": 16,
      "outputs": [
        {
          "output_type": "execute_result",
          "data": {
            "text/plain": [
              "array([0, 1, 2, 3, 4, 5, 6, 7])"
            ]
          },
          "metadata": {},
          "execution_count": 16
        }
      ]
    },
    {
      "cell_type": "code",
      "source": [
        "#If you want to change the items in array then copy_array will remains unchanged.\n",
        "value_change=array[0]=1\n",
        "value_change"
      ],
      "metadata": {
        "colab": {
          "base_uri": "https://localhost:8080/",
          "height": 0
        },
        "id": "wuQkuEYHwk56",
        "outputId": "48edab2e-21f8-4239-b698-f6907d8cd53e"
      },
      "execution_count": 17,
      "outputs": [
        {
          "output_type": "execute_result",
          "data": {
            "text/plain": [
              "1"
            ]
          },
          "metadata": {},
          "execution_count": 17
        }
      ]
    },
    {
      "cell_type": "code",
      "source": [
        "array"
      ],
      "metadata": {
        "colab": {
          "base_uri": "https://localhost:8080/",
          "height": 0
        },
        "id": "aOjtb0zzw3CZ",
        "outputId": "3c2834d9-586a-439b-e9f6-e11ca8d7a924"
      },
      "execution_count": 18,
      "outputs": [
        {
          "output_type": "execute_result",
          "data": {
            "text/plain": [
              "array([1, 1, 2, 3, 4, 5, 6, 7])"
            ]
          },
          "metadata": {},
          "execution_count": 18
        }
      ]
    },
    {
      "cell_type": "code",
      "source": [
        "#It has still unchanged.\n",
        "copy_array"
      ],
      "metadata": {
        "colab": {
          "base_uri": "https://localhost:8080/",
          "height": 0
        },
        "id": "HCFGGUUIw5cx",
        "outputId": "653a8eb8-2ad1-410c-dbd5-d646d3482c70"
      },
      "execution_count": 19,
      "outputs": [
        {
          "output_type": "execute_result",
          "data": {
            "text/plain": [
              "array([0, 1, 2, 3, 4, 5, 6, 7])"
            ]
          },
          "metadata": {},
          "execution_count": 19
        }
      ]
    },
    {
      "cell_type": "markdown",
      "source": [
        "__Q7. Create a `csv` file which contains records set of student record.(Name, Department, admission, year) including atleast `10 records` with `columns name`. Read and show the file from Pythons using `Numpy` library?__"
      ],
      "metadata": {
        "id": "9B-7rsod0Vzb"
      }
    },
    {
      "cell_type": "code",
      "source": [
        "#Create a data frame using numpy array with columns name.\n",
        "\n",
        "DataFrame=np.array([(1,\"Md. Anas Mondol\",\"CSE\", 2019),(2,\"Pranta Saha\",\"CSE\",2018),\n",
        "                    (3,\"Monjur Ahmed\",\"CSE\", 2018),(4,\"Shakil Mahmud\",\"CSE\",2019),\n",
        "                    (5,\"M.N Huda Nahid\",\"CSE\", 2019),(6,\"Dibos Saha\",\"CSE\",2019),\n",
        "                    (7,\"Md. Monir Hossain\",\"CSE\", 2019),(8,\"Jahid Hasan\",\"CSE\",2019),\n",
        "                    (9,\"Md. Rayhan Khan\",\"CSE\", 2019),(10,\"Nayem Hossain\",\"CSE\",2019)],\n",
        "                   dtype=[('ID', 'i2'),('Name','a20'), ('Department','a4'), ('Admission Year','i4')])\n",
        "\n",
        "DataFrame"
      ],
      "metadata": {
        "colab": {
          "base_uri": "https://localhost:8080/",
          "height": 0
        },
        "id": "RHfBoca-Albd",
        "outputId": "6f3de90d-3936-44f0-cb96-c4643526b2e9"
      },
      "execution_count": 20,
      "outputs": [
        {
          "output_type": "execute_result",
          "data": {
            "text/plain": [
              "array([( 1, b'Md. Anas Mondol', b'CSE', 2019),\n",
              "       ( 2, b'Pranta Saha', b'CSE', 2018),\n",
              "       ( 3, b'Monjur Ahmed', b'CSE', 2018),\n",
              "       ( 4, b'Shakil Mahmud', b'CSE', 2019),\n",
              "       ( 5, b'M.N Huda Nahid', b'CSE', 2019),\n",
              "       ( 6, b'Dibos Saha', b'CSE', 2019),\n",
              "       ( 7, b'Md. Monir Hossain', b'CSE', 2019),\n",
              "       ( 8, b'Jahid Hasan', b'CSE', 2019),\n",
              "       ( 9, b'Md. Rayhan Khan', b'CSE', 2019),\n",
              "       (10, b'Nayem Hossain', b'CSE', 2019)],\n",
              "      dtype=[('ID', '<i2'), ('Name', 'S20'), ('Department', 'S4'), ('Admission Year', '<i4')])"
            ]
          },
          "metadata": {},
          "execution_count": 20
        }
      ]
    },
    {
      "cell_type": "code",
      "source": [
        "#Find names\n",
        "\n",
        "DataFrame[\"Name\"]"
      ],
      "metadata": {
        "colab": {
          "base_uri": "https://localhost:8080/",
          "height": 0
        },
        "id": "5HT3GAB_CqYc",
        "outputId": "94725adf-5e1f-4ac9-e897-bfd2c04ba5d1"
      },
      "execution_count": 21,
      "outputs": [
        {
          "output_type": "execute_result",
          "data": {
            "text/plain": [
              "array([b'Md. Anas Mondol', b'Pranta Saha', b'Monjur Ahmed',\n",
              "       b'Shakil Mahmud', b'M.N Huda Nahid', b'Dibos Saha',\n",
              "       b'Md. Monir Hossain', b'Jahid Hasan', b'Md. Rayhan Khan',\n",
              "       b'Nayem Hossain'], dtype='|S20')"
            ]
          },
          "metadata": {},
          "execution_count": 21
        }
      ]
    },
    {
      "cell_type": "code",
      "source": [
        "#Find ID\n",
        "\n",
        "DataFrame['ID']"
      ],
      "metadata": {
        "colab": {
          "base_uri": "https://localhost:8080/",
          "height": 0
        },
        "id": "BkT2r2vcFaxz",
        "outputId": "24ee2baf-389e-4872-e60c-b513098897f7"
      },
      "execution_count": 22,
      "outputs": [
        {
          "output_type": "execute_result",
          "data": {
            "text/plain": [
              "array([ 1,  2,  3,  4,  5,  6,  7,  8,  9, 10], dtype=int16)"
            ]
          },
          "metadata": {},
          "execution_count": 22
        }
      ]
    },
    {
      "cell_type": "code",
      "source": [
        "#Find Admission year\n",
        "\n",
        "DataFrame[\"Admission Year\"]"
      ],
      "metadata": {
        "colab": {
          "base_uri": "https://localhost:8080/",
          "height": 0
        },
        "id": "wmC5bry0Fldy",
        "outputId": "b5d775a9-ae20-4f7c-c3f2-7b0f5d868e25"
      },
      "execution_count": 23,
      "outputs": [
        {
          "output_type": "execute_result",
          "data": {
            "text/plain": [
              "array([2019, 2018, 2018, 2019, 2019, 2019, 2019, 2019, 2019, 2019],\n",
              "      dtype=int32)"
            ]
          },
          "metadata": {},
          "execution_count": 23
        }
      ]
    },
    {
      "cell_type": "code",
      "source": [
        "# use the tofile() method\n",
        "# and use ',' as a separator\n",
        "# as we have to generate a csv file\n",
        "\n",
        "create_csv=DataFrame.tofile('Lab_Work_Numpy.csv', sep = ',')\n",
        "create_csv"
      ],
      "metadata": {
        "id": "YCLFFiqOL1kQ"
      },
      "execution_count": 24,
      "outputs": []
    },
    {
      "cell_type": "code",
      "source": [
        "#Loading CSV data using numpy genfromtxt() method\n",
        "\n",
        "load_data = np.genfromtxt('Lab_Work_Numpy.csv', delimiter=',', dtype=str)\n",
        "load_data"
      ],
      "metadata": {
        "colab": {
          "base_uri": "https://localhost:8080/",
          "height": 0
        },
        "id": "s7szQyZEMQK3",
        "outputId": "b47f7fc0-2261-4775-e7c4-023068a8f081"
      },
      "execution_count": 25,
      "outputs": [
        {
          "output_type": "execute_result",
          "data": {
            "text/plain": [
              "array(['(1', \" b'Md. Anas Mondol'\", \" b'CSE'\", ' 2019)', '(2',\n",
              "       \" b'Pranta Saha'\", \" b'CSE'\", ' 2018)', '(3', \" b'Monjur Ahmed'\",\n",
              "       \" b'CSE'\", ' 2018)', '(4', \" b'Shakil Mahmud'\", \" b'CSE'\",\n",
              "       ' 2019)', '(5', \" b'M.N Huda Nahid'\", \" b'CSE'\", ' 2019)', '(6',\n",
              "       \" b'Dibos Saha'\", \" b'CSE'\", ' 2019)', '(7',\n",
              "       \" b'Md. Monir Hossain'\", \" b'CSE'\", ' 2019)', '(8',\n",
              "       \" b'Jahid Hasan'\", \" b'CSE'\", ' 2019)', '(9',\n",
              "       \" b'Md. Rayhan Khan'\", \" b'CSE'\", ' 2019)', '(10',\n",
              "       \" b'Nayem Hossain'\", \" b'CSE'\", ' 2019)'], dtype='<U21')"
            ]
          },
          "metadata": {},
          "execution_count": 25
        }
      ]
    },
    {
      "cell_type": "markdown",
      "source": [
        "**Author**\n",
        "\n",
        "***Md. Anas Mondol***, **City University.**"
      ],
      "metadata": {
        "id": "wbe7EVHROxZe"
      }
    },
    {
      "cell_type": "code",
      "source": [],
      "metadata": {
        "id": "k0A3tsb5M9b9"
      },
      "execution_count": 25,
      "outputs": []
    }
  ]
}