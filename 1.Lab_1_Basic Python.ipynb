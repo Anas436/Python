{
  "nbformat": 4,
  "nbformat_minor": 0,
  "metadata": {
    "colab": {
      "provenance": [],
      "collapsed_sections": []
    },
    "kernelspec": {
      "name": "python3",
      "display_name": "Python 3"
    },
    "language_info": {
      "name": "python"
    }
  },
  "cells": [
    {
      "cell_type": "code",
      "execution_count": null,
      "metadata": {
        "colab": {
          "base_uri": "https://localhost:8080/"
        },
        "id": "SfTVShc6Lbvc",
        "outputId": "272555a0-c2c5-4429-bb3d-718700748703"
      },
      "outputs": [
        {
          "output_type": "execute_result",
          "data": {
            "text/plain": [
              "4"
            ]
          },
          "metadata": {},
          "execution_count": 1
        }
      ],
      "source": [
        "2+2"
      ]
    },
    {
      "cell_type": "code",
      "source": [
        "x=10\n",
        "2+x"
      ],
      "metadata": {
        "colab": {
          "base_uri": "https://localhost:8080/"
        },
        "id": "qFWsa5E9OhKf",
        "outputId": "b9908caa-4793-4038-dfc7-28851a43ecbb"
      },
      "execution_count": null,
      "outputs": [
        {
          "output_type": "execute_result",
          "data": {
            "text/plain": [
              "12"
            ]
          },
          "metadata": {},
          "execution_count": 3
        }
      ]
    },
    {
      "cell_type": "code",
      "source": [
        "x=\"ai\"\n",
        "2*x"
      ],
      "metadata": {
        "colab": {
          "base_uri": "https://localhost:8080/",
          "height": 35
        },
        "id": "WRQisIdfOwWf",
        "outputId": "bf349a56-7c3e-4c6a-d583-2c9c8cc735f6"
      },
      "execution_count": null,
      "outputs": [
        {
          "output_type": "execute_result",
          "data": {
            "text/plain": [
              "'aiai'"
            ],
            "application/vnd.google.colaboratory.intrinsic+json": {
              "type": "string"
            }
          },
          "metadata": {},
          "execution_count": 4
        }
      ]
    },
    {
      "cell_type": "code",
      "source": [
        "5**2"
      ],
      "metadata": {
        "colab": {
          "base_uri": "https://localhost:8080/"
        },
        "id": "5iVu5EbRPBlk",
        "outputId": "9ca9a729-4e76-487b-8e2d-3fbfe00a0dbb"
      },
      "execution_count": null,
      "outputs": [
        {
          "output_type": "execute_result",
          "data": {
            "text/plain": [
              "25"
            ]
          },
          "metadata": {},
          "execution_count": 5
        }
      ]
    },
    {
      "cell_type": "code",
      "source": [
        "2**5"
      ],
      "metadata": {
        "colab": {
          "base_uri": "https://localhost:8080/"
        },
        "id": "Jg4u_FhpPIrz",
        "outputId": "4b49b907-cb03-4217-9980-0a682392e015"
      },
      "execution_count": null,
      "outputs": [
        {
          "output_type": "execute_result",
          "data": {
            "text/plain": [
              "32"
            ]
          },
          "metadata": {},
          "execution_count": 6
        }
      ]
    },
    {
      "cell_type": "code",
      "source": [
        "x=2\n",
        "y=5\n",
        "x**y"
      ],
      "metadata": {
        "colab": {
          "base_uri": "https://localhost:8080/"
        },
        "id": "x0O_K_1cPLL-",
        "outputId": "170b69dd-c4ac-4f0d-9ec7-65a71dd84777"
      },
      "execution_count": null,
      "outputs": [
        {
          "output_type": "execute_result",
          "data": {
            "text/plain": [
              "32"
            ]
          },
          "metadata": {},
          "execution_count": 7
        }
      ]
    },
    {
      "cell_type": "code",
      "source": [
        "x=2.5\n",
        "y=5.5\n",
        "x*y"
      ],
      "metadata": {
        "colab": {
          "base_uri": "https://localhost:8080/"
        },
        "id": "z38jm3cFPRY1",
        "outputId": "ee64ace0-d213-491d-bc10-9998d92145a5"
      },
      "execution_count": null,
      "outputs": [
        {
          "output_type": "execute_result",
          "data": {
            "text/plain": [
              "13.75"
            ]
          },
          "metadata": {},
          "execution_count": 8
        }
      ]
    },
    {
      "cell_type": "code",
      "source": [
        "x=2.5\n",
        "y=x/5\n",
        "y"
      ],
      "metadata": {
        "colab": {
          "base_uri": "https://localhost:8080/"
        },
        "id": "goTkvOtyPZub",
        "outputId": "634437c8-efef-41c9-d449-2e695ed381e6"
      },
      "execution_count": null,
      "outputs": [
        {
          "output_type": "execute_result",
          "data": {
            "text/plain": [
              "0.5"
            ]
          },
          "metadata": {},
          "execution_count": 10
        }
      ]
    },
    {
      "cell_type": "code",
      "source": [
        "x=3\n",
        "y=5\n",
        "\n",
        "x1=x/y\n",
        "x1\n"
      ],
      "metadata": {
        "colab": {
          "base_uri": "https://localhost:8080/"
        },
        "id": "yHOK8LDMPoL9",
        "outputId": "4b104e3f-a5fb-415a-d136-c1f20e31ad10"
      },
      "execution_count": null,
      "outputs": [
        {
          "output_type": "execute_result",
          "data": {
            "text/plain": [
              "0.6"
            ]
          },
          "metadata": {},
          "execution_count": 12
        }
      ]
    },
    {
      "cell_type": "code",
      "source": [
        "x=2\n",
        "y=5\n",
        "\n",
        "print(x/5)"
      ],
      "metadata": {
        "colab": {
          "base_uri": "https://localhost:8080/"
        },
        "id": "GZi_TYO8P4I9",
        "outputId": "343d2975-52e4-4301-c744-87d2c0d6311d"
      },
      "execution_count": null,
      "outputs": [
        {
          "output_type": "stream",
          "name": "stdout",
          "text": [
            "0.4\n"
          ]
        }
      ]
    },
    {
      "cell_type": "code",
      "source": [
        "x=12\n",
        "y=5\n",
        "\n",
        "print(x//5)"
      ],
      "metadata": {
        "colab": {
          "base_uri": "https://localhost:8080/"
        },
        "id": "zSxgdEFrQQl2",
        "outputId": "9ebfcff0-18dc-4cac-febf-0661667973e3"
      },
      "execution_count": null,
      "outputs": [
        {
          "output_type": "stream",
          "name": "stdout",
          "text": [
            "2\n"
          ]
        }
      ]
    },
    {
      "cell_type": "markdown",
      "source": [
        "Taker two inputs from keyboard\n",
        "print the sum of two numbers"
      ],
      "metadata": {
        "id": "1AP0U73CRqYJ"
      }
    },
    {
      "cell_type": "code",
      "source": [
        "x= int(input(\"Enter first number : \"))\n",
        "y= int(input(\"Enter Second Numbers : \"))\n",
        "\n",
        "z=x+y\n",
        "\n",
        "print(\"The sum of the numbers : \", z)"
      ],
      "metadata": {
        "colab": {
          "base_uri": "https://localhost:8080/"
        },
        "id": "z_sP8jH3QcLN",
        "outputId": "573e3a1b-77bd-438a-f89b-f56b8fe1a916"
      },
      "execution_count": null,
      "outputs": [
        {
          "output_type": "stream",
          "name": "stdout",
          "text": [
            "Enter first number : 6\n",
            "Enter Second Numbers : 6\n",
            "The sum of the numbers :  12\n"
          ]
        }
      ]
    },
    {
      "cell_type": "code",
      "source": [
        "z=\"Python\"\n",
        "print(z[-2])"
      ],
      "metadata": {
        "colab": {
          "base_uri": "https://localhost:8080/"
        },
        "id": "9NqQ4cxUTCyU",
        "outputId": "82321db7-f60b-4490-87ab-4c0363c45d66"
      },
      "execution_count": null,
      "outputs": [
        {
          "output_type": "stream",
          "name": "stdout",
          "text": [
            "o\n"
          ]
        }
      ]
    },
    {
      "cell_type": "code",
      "source": [
        "print(z[1:3])"
      ],
      "metadata": {
        "colab": {
          "base_uri": "https://localhost:8080/"
        },
        "id": "KJnne3SdUTwe",
        "outputId": "332a6270-1b44-4c2c-86cd-7fbb97b2338e"
      },
      "execution_count": null,
      "outputs": [
        {
          "output_type": "stream",
          "name": "stdout",
          "text": [
            "yt\n"
          ]
        }
      ]
    },
    {
      "cell_type": "code",
      "source": [
        "print(z[3:])"
      ],
      "metadata": {
        "colab": {
          "base_uri": "https://localhost:8080/"
        },
        "id": "qLKsyLruU9yL",
        "outputId": "7c12fd62-fc86-42a7-a176-f12ebfe60491"
      },
      "execution_count": null,
      "outputs": [
        {
          "output_type": "stream",
          "name": "stdout",
          "text": [
            "hon\n"
          ]
        }
      ]
    },
    {
      "cell_type": "code",
      "source": [
        "print(z[:5])"
      ],
      "metadata": {
        "colab": {
          "base_uri": "https://localhost:8080/"
        },
        "id": "FOsiIgmIVK-l",
        "outputId": "dd31f004-d94e-435e-f34e-d3c98f4244a6"
      },
      "execution_count": null,
      "outputs": [
        {
          "output_type": "stream",
          "name": "stdout",
          "text": [
            "Pytho\n"
          ]
        }
      ]
    },
    {
      "cell_type": "code",
      "source": [
        "print(z[:-2])"
      ],
      "metadata": {
        "colab": {
          "base_uri": "https://localhost:8080/"
        },
        "id": "U3PUAKRGVRJe",
        "outputId": "9a8c95d4-a938-476d-c945-36f67136e3b3"
      },
      "execution_count": null,
      "outputs": [
        {
          "output_type": "stream",
          "name": "stdout",
          "text": [
            "Pyth\n"
          ]
        }
      ]
    },
    {
      "cell_type": "code",
      "source": [
        "print(z[-2:])"
      ],
      "metadata": {
        "colab": {
          "base_uri": "https://localhost:8080/"
        },
        "id": "zNbfTs1HVYME",
        "outputId": "0b9be283-1edb-4ed8-af08-fa623786e551"
      },
      "execution_count": null,
      "outputs": [
        {
          "output_type": "stream",
          "name": "stdout",
          "text": [
            "on\n"
          ]
        }
      ]
    },
    {
      "cell_type": "code",
      "source": [
        "z=\"Python\"\n",
        "y=z[:2]+z[2:]\n",
        "y"
      ],
      "metadata": {
        "colab": {
          "base_uri": "https://localhost:8080/",
          "height": 35
        },
        "id": "P2AhUyS5VgMm",
        "outputId": "5b4209a4-19b9-44af-ee86-1eb0168e24f4"
      },
      "execution_count": null,
      "outputs": [
        {
          "output_type": "execute_result",
          "data": {
            "text/plain": [
              "'Python'"
            ],
            "application/vnd.google.colaboratory.intrinsic+json": {
              "type": "string"
            }
          },
          "metadata": {},
          "execution_count": 34
        }
      ]
    },
    {
      "cell_type": "code",
      "source": [],
      "metadata": {
        "id": "isM97t5bV08_"
      },
      "execution_count": null,
      "outputs": []
    }
  ]
}