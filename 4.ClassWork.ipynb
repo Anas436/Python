{
 "cells": [
  {
   "cell_type": "code",
   "execution_count": 81,
   "metadata": {},
   "outputs": [],
   "source": [
    "import numpy as np\n",
    "import pandas as pd"
   ]
  },
  {
   "cell_type": "code",
   "execution_count": 82,
   "metadata": {},
   "outputs": [
    {
     "data": {
      "text/html": [
       "<div><div id=e4591e70-6841-442f-a080-2d8f16de0338 style=\"display:none; background-color:#9D6CFF; color:white; width:200px; height:30px; padding-left:5px; border-radius:4px; flex-direction:row; justify-content:space-around; align-items:center;\" onmouseover=\"this.style.backgroundColor='#BA9BF8'\" onmouseout=\"this.style.backgroundColor='#9D6CFF'\" onclick=\"window.commands?.execute('create-mitosheet-from-dataframe-output');\">See Full Dataframe in Mito</div> <script> if (window.commands.hasCommand('create-mitosheet-from-dataframe-output')) document.getElementById('e4591e70-6841-442f-a080-2d8f16de0338').style.display = 'flex' </script> <table border=\"1\" class=\"dataframe\">\n",
       "  <thead>\n",
       "    <tr style=\"text-align: right;\">\n",
       "      <th></th>\n",
       "      <th>Color</th>\n",
       "      <th>Legs</th>\n",
       "      <th>Height</th>\n",
       "      <th>Smelly</th>\n",
       "      <th>Species</th>\n",
       "    </tr>\n",
       "  </thead>\n",
       "  <tbody>\n",
       "    <tr>\n",
       "      <th>0</th>\n",
       "      <td>white</td>\n",
       "      <td>3</td>\n",
       "      <td>short</td>\n",
       "      <td>yes</td>\n",
       "      <td>m</td>\n",
       "    </tr>\n",
       "    <tr>\n",
       "      <th>1</th>\n",
       "      <td>green</td>\n",
       "      <td>2</td>\n",
       "      <td>tall</td>\n",
       "      <td>no</td>\n",
       "      <td>m</td>\n",
       "    </tr>\n",
       "    <tr>\n",
       "      <th>2</th>\n",
       "      <td>green</td>\n",
       "      <td>3</td>\n",
       "      <td>short</td>\n",
       "      <td>yes</td>\n",
       "      <td>m</td>\n",
       "    </tr>\n",
       "    <tr>\n",
       "      <th>3</th>\n",
       "      <td>white</td>\n",
       "      <td>3</td>\n",
       "      <td>short</td>\n",
       "      <td>yes</td>\n",
       "      <td>m</td>\n",
       "    </tr>\n",
       "    <tr>\n",
       "      <th>4</th>\n",
       "      <td>green</td>\n",
       "      <td>2</td>\n",
       "      <td>short</td>\n",
       "      <td>no</td>\n",
       "      <td>h</td>\n",
       "    </tr>\n",
       "    <tr>\n",
       "      <th>5</th>\n",
       "      <td>white</td>\n",
       "      <td>2</td>\n",
       "      <td>tall</td>\n",
       "      <td>no</td>\n",
       "      <td>h</td>\n",
       "    </tr>\n",
       "    <tr>\n",
       "      <th>6</th>\n",
       "      <td>white</td>\n",
       "      <td>2</td>\n",
       "      <td>tall</td>\n",
       "      <td>no</td>\n",
       "      <td>h</td>\n",
       "    </tr>\n",
       "    <tr>\n",
       "      <th>7</th>\n",
       "      <td>white</td>\n",
       "      <td>2</td>\n",
       "      <td>short</td>\n",
       "      <td>yes</td>\n",
       "      <td>h</td>\n",
       "    </tr>\n",
       "  </tbody>\n",
       "</table></div>"
      ],
      "text/plain": [
       "   Color  Legs Height Smelly Species\n",
       "0  white     3  short    yes       m\n",
       "1  green     2   tall     no       m\n",
       "2  green     3  short    yes       m\n",
       "3  white     3  short    yes       m\n",
       "4  green     2  short     no       h\n",
       "5  white     2   tall     no       h\n",
       "6  white     2   tall     no       h\n",
       "7  white     2  short    yes       h"
      ]
     },
     "execution_count": 82,
     "metadata": {},
     "output_type": "execute_result"
    }
   ],
   "source": [
    "df =pd.read_csv('Data.csv')\n",
    "df"
   ]
  },
  {
   "cell_type": "code",
   "execution_count": 83,
   "metadata": {},
   "outputs": [
    {
     "data": {
      "text/plain": [
       "matrix([['Color', 'M', 'H'],\n",
       "        ['White', '0.5', '0.75'],\n",
       "        ['green', '0.5', '0.25']], dtype='<U5')"
      ]
     },
     "execution_count": 83,
     "metadata": {},
     "output_type": "execute_result"
    }
   ],
   "source": [
    "white_M = ((df.Color =='white') & (df.Species == 'm')).sum() / (df.Species =='m').sum()\n",
    "white_H = ((df.Color =='white') & (df.Species == 'h')).sum() / (df.Species =='h').sum()\n",
    "green_M = ((df.Color =='green') & (df.Species == 'm')).sum() / (df.Species =='m').sum()\n",
    "green_H = ((df.Color =='green') & (df.Species == 'h')).sum() / (df.Species =='h').sum()\n",
    "First = np.matrix([['Color','M',\"H\"],['White',white_M,white_H],['green',green_M,green_H]])\n",
    "First"
   ]
  },
  {
   "cell_type": "code",
   "execution_count": 84,
   "metadata": {},
   "outputs": [
    {
     "data": {
      "text/plain": [
       "matrix([['Legs', 'M', 'H'],\n",
       "        ['2', '0.25', '1.0'],\n",
       "        ['3', '0.75', '0.0']], dtype='<U4')"
      ]
     },
     "execution_count": 84,
     "metadata": {},
     "output_type": "execute_result"
    }
   ],
   "source": [
    "Leg2_M = ((df.Legs ==2) & (df.Species == 'm')).sum() / (df.Species =='m').sum()\n",
    "Leg2_H = ((df.Legs ==2) & (df.Species == 'h')).sum() / (df.Species =='h').sum()\n",
    "Leg3_M = ((df.Legs ==3) & (df.Species == 'm')).sum() / (df.Species =='m').sum()\n",
    "Leg3_H = ((df.Legs ==3) & (df.Species == 'h')).sum() / (df.Species =='h').sum()\n",
    "Second = np.matrix([['Legs','M',\"H\"],['2',Leg2_M,Leg2_H],['3',Leg3_M,Leg3_H]])\n",
    "Second"
   ]
  },
  {
   "cell_type": "code",
   "execution_count": 85,
   "metadata": {},
   "outputs": [
    {
     "data": {
      "text/plain": [
       "matrix([['Height', 'M', 'H'],\n",
       "        ['Tall', '0.25', '0.5'],\n",
       "        ['Short', '0.75', '0.5']], dtype='<U6')"
      ]
     },
     "execution_count": 85,
     "metadata": {},
     "output_type": "execute_result"
    }
   ],
   "source": [
    "Tall_M = ((df.Height =='tall') & (df.Species == 'm')).sum() / (df.Species =='m').sum()\n",
    "Tall_H = ((df.Height =='tall') & (df.Species == 'h')).sum() / (df.Species =='h').sum()\n",
    "Short_M = ((df.Height =='short') & (df.Species == 'm')).sum() / (df.Species =='m').sum()\n",
    "Short_H = ((df.Height =='short') & (df.Species == 'h')).sum() / (df.Species =='h').sum()\n",
    "\n",
    "Third = np.matrix([['Height','M',\"H\"],['Tall',Tall_M,Tall_H],['Short',Short_M,Short_H]])\n",
    "Third"
   ]
  },
  {
   "cell_type": "code",
   "execution_count": 86,
   "metadata": {},
   "outputs": [
    {
     "data": {
      "text/plain": [
       "matrix([['Smelly', 'M', 'H'],\n",
       "        ['Yes', '0.75', '0.25'],\n",
       "        ['No', '0.25', '0.75']], dtype='<U6')"
      ]
     },
     "execution_count": 86,
     "metadata": {},
     "output_type": "execute_result"
    }
   ],
   "source": [
    "Yes_M = ((df.Smelly =='yes') & (df.Species == 'm')).sum() / (df.Species =='m').sum()\n",
    "Yes_H = ((df.Smelly =='yes') & (df.Species == 'h')).sum() / (df.Species =='h').sum()\n",
    "No_M = ((df.Smelly =='no') & (df.Species == 'm')).sum() / (df.Species =='m').sum()\n",
    "No_H = ((df.Smelly =='no') & (df.Species == 'h')).sum() / (df.Species =='h').sum()\n",
    "Fourth = np.matrix([['Smelly','M',\"H\"],['Yes',Yes_M,Yes_H],['No',No_M,No_H]])\n",
    "Fourth"
   ]
  }
 ],
 "metadata": {
  "kernelspec": {
   "display_name": "Python 3.9.5 64-bit",
   "language": "python",
   "name": "python3"
  },
  "language_info": {
   "codemirror_mode": {
    "name": "ipython",
    "version": 3
   },
   "file_extension": ".py",
   "mimetype": "text/x-python",
   "name": "python",
   "nbconvert_exporter": "python",
   "pygments_lexer": "ipython3",
   "version": "3.9.5"
  },
  "orig_nbformat": 4,
  "vscode": {
   "interpreter": {
    "hash": "2eae83e1493eda561ff74c1bc7212f5892d591cf25123eabe1efba2b60dde923"
   }
  }
 },
 "nbformat": 4,
 "nbformat_minor": 2
}
