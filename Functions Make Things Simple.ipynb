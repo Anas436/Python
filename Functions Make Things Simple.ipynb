{
 "cells": [
  {
   "cell_type": "code",
   "execution_count": 1,
   "id": "25badc46-3d74-49e5-acab-6b10e067ad2c",
   "metadata": {},
   "outputs": [
    {
     "data": {
      "text/plain": [
       "5"
      ]
     },
     "execution_count": 1,
     "metadata": {},
     "output_type": "execute_result"
    }
   ],
   "source": [
    "# a and b calculation block1\n",
    "\n",
    "a1 = 4\n",
    "b1 = 5\n",
    "c1 = a1 + b1 + 2 * a1 * b1 - 1\n",
    "\n",
    "if (c1 < 0):\n",
    "    \n",
    "    c1 = 0\n",
    "    \n",
    "else:\n",
    "    \n",
    "    c1 = 5\n",
    "    \n",
    "c1"
   ]
  },
  {
   "cell_type": "code",
   "execution_count": 2,
   "id": "6e87cc12-f696-4e18-9812-b31e14d3a4b8",
   "metadata": {},
   "outputs": [
    {
     "data": {
      "text/plain": [
       "0"
      ]
     },
     "execution_count": 2,
     "metadata": {},
     "output_type": "execute_result"
    }
   ],
   "source": [
    "# a and b calculation block2\n",
    "\n",
    "a2 =0\n",
    "b2 =0\n",
    "c2 = a2 + b2 + 2 * a2 * b2 - 1\n",
    "\n",
    "if (c2 < 0):\n",
    "    \n",
    "    c2 =0\n",
    "    \n",
    "else:\n",
    "    \n",
    "    c2 = 5\n",
    "    \n",
    "c2"
   ]
  },
  {
   "cell_type": "code",
   "execution_count": 4,
   "id": "576e697e-c8b9-4090-9778-2efbfecaf67f",
   "metadata": {},
   "outputs": [],
   "source": [
    "# Make a Function for the calculation above\n",
    "\n",
    "def Equations(a,b):\n",
    "    \n",
    "    c = a + b + 2 * a * b - 1\n",
    "    \n",
    "    if(c < 0):\n",
    "        \n",
    "        c = 0\n",
    "        \n",
    "    else:\n",
    "        \n",
    "        c = 5\n",
    "        \n",
    "    return c"
   ]
  },
  {
   "cell_type": "code",
   "execution_count": 8,
   "id": "7974c7f6-207d-4f98-8ad3-8298eaff3b65",
   "metadata": {},
   "outputs": [
    {
     "data": {
      "text/plain": [
       "5"
      ]
     },
     "execution_count": 8,
     "metadata": {},
     "output_type": "execute_result"
    }
   ],
   "source": [
    "a1 = 4\n",
    "b1 =5\n",
    "\n",
    "c1 = Equations(a1, b1)\n",
    "\n",
    "c1"
   ]
  },
  {
   "cell_type": "code",
   "execution_count": 9,
   "id": "e9d5cf62-2e53-45f9-9d77-463399711b17",
   "metadata": {},
   "outputs": [
    {
     "data": {
      "text/plain": [
       "0"
      ]
     },
     "execution_count": 9,
     "metadata": {},
     "output_type": "execute_result"
    }
   ],
   "source": [
    "a2 = 0\n",
    "b2 = 0\n",
    "\n",
    "c2 = Equations(a2,b2)\n",
    "c2"
   ]
  },
  {
   "cell_type": "code",
   "execution_count": null,
   "id": "c858586f-2cf3-4fde-883f-d70caaac003e",
   "metadata": {},
   "outputs": [],
   "source": []
  }
 ],
 "metadata": {
  "kernelspec": {
   "display_name": "Python",
   "language": "python",
   "name": "conda-env-python-py"
  },
  "language_info": {
   "codemirror_mode": {
    "name": "ipython",
    "version": 3
   },
   "file_extension": ".py",
   "mimetype": "text/x-python",
   "name": "python",
   "nbconvert_exporter": "python",
   "pygments_lexer": "ipython3",
   "version": "3.7.12"
  }
 },
 "nbformat": 4,
 "nbformat_minor": 5
}
