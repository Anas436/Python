{
 "cells": [
  {
   "cell_type": "code",
   "execution_count": 1,
   "id": "a7133e72-b01f-4e53-b535-362552a5384f",
   "metadata": {},
   "outputs": [],
   "source": [
    "import numpy as np"
   ]
  },
  {
   "cell_type": "code",
   "execution_count": 2,
   "id": "830fa48e-4b5f-45a0-86d4-951f43c35fc3",
   "metadata": {},
   "outputs": [],
   "source": [
    "X = np.array([1, 2])\n",
    "Y = np.array([3, 2])"
   ]
  },
  {
   "cell_type": "code",
   "execution_count": 5,
   "id": "061050f2-e82d-4644-bce2-94206c065a6a",
   "metadata": {},
   "outputs": [
    {
     "data": {
      "text/plain": [
       "7"
      ]
     },
     "execution_count": 5,
     "metadata": {},
     "output_type": "execute_result"
    }
   ],
   "source": [
    "# Calculate the dot product\n",
    "Z = np.dot(X, Y)\n",
    "Z"
   ]
  },
  {
   "cell_type": "code",
   "execution_count": 6,
   "id": "9223656f-8606-4210-99a2-a5163d4fa75c",
   "metadata": {},
   "outputs": [
    {
     "name": "stdout",
     "output_type": "stream",
     "text": [
      "1\n",
      "2\n"
     ]
    }
   ],
   "source": [
    "#Elements of X\n",
    "print(X[0])\n",
    "print(X[1])"
   ]
  },
  {
   "cell_type": "code",
   "execution_count": 7,
   "id": "822543d2-11dd-42e1-95d3-f3c573c89318",
   "metadata": {},
   "outputs": [
    {
     "name": "stdout",
     "output_type": "stream",
     "text": [
      "3\n",
      "2\n"
     ]
    }
   ],
   "source": [
    "#Elements of Y\n",
    "print(Y[0])\n",
    "print(Y[1])"
   ]
  },
  {
   "cell_type": "code",
   "execution_count": 8,
   "id": "ae6179be-9c86-42ad-8051-d1809b3b52c8",
   "metadata": {},
   "outputs": [
    {
     "data": {
      "text/plain": [
       "26"
      ]
     },
     "execution_count": 8,
     "metadata": {},
     "output_type": "execute_result"
    }
   ],
   "source": [
    "arr1 = np.array([3, 5])\n",
    "arr2 = np.array([2, 4])\n",
    "\n",
    "# Enter your code here\n",
    "arr3 = np.dot(arr1, arr2)\n",
    "arr3"
   ]
  },
  {
   "cell_type": "code",
   "execution_count": 9,
   "id": "8aff4469-e28a-46f5-a078-b564a7444039",
   "metadata": {},
   "outputs": [
    {
     "data": {
      "text/plain": [
       "array([ 1,  2,  3, -1])"
      ]
     },
     "execution_count": 9,
     "metadata": {},
     "output_type": "execute_result"
    }
   ],
   "source": [
    "# Create a constant to numpy array\n",
    "\n",
    "u = np.array([1, 2, 3, -1]) \n",
    "u"
   ]
  },
  {
   "cell_type": "code",
   "execution_count": 11,
   "id": "0c65c0da-2b9a-4243-b8d0-6353a8fc2a51",
   "metadata": {},
   "outputs": [
    {
     "data": {
      "text/plain": [
       "array([2, 3, 4, 0])"
      ]
     },
     "execution_count": 11,
     "metadata": {},
     "output_type": "execute_result"
    }
   ],
   "source": [
    "# Add the constant to array\n",
    "\n",
    "u + 1"
   ]
  },
  {
   "cell_type": "code",
   "execution_count": 12,
   "id": "2841a196-a5a1-4e8d-b2c3-92c1f8e277b3",
   "metadata": {},
   "outputs": [
    {
     "data": {
      "text/plain": [
       "array([6, 7, 8, 4])"
      ]
     },
     "execution_count": 12,
     "metadata": {},
     "output_type": "execute_result"
    }
   ],
   "source": [
    "#Add Constant 5 to the given numpy array ar:\n",
    "\n",
    "arr = np.array([1, 2, 3, -1]) \n",
    "\n",
    "# Enter your code here\n",
    "arr+5"
   ]
  },
  {
   "cell_type": "code",
   "execution_count": 13,
   "id": "b2847ff5-64f5-44d8-a6a5-5f57cfdaeb3c",
   "metadata": {},
   "outputs": [
    {
     "data": {
      "text/plain": [
       "3.141592653589793"
      ]
     },
     "execution_count": 13,
     "metadata": {},
     "output_type": "execute_result"
    }
   ],
   "source": [
    "#We can access the value of pi in numpy as follows :\n",
    "\n",
    "np.pi"
   ]
  },
  {
   "cell_type": "code",
   "execution_count": 15,
   "id": "f79f4fb6-96ce-494a-b081-88ce95e5c9d6",
   "metadata": {},
   "outputs": [
    {
     "data": {
      "text/plain": [
       "array([0.        , 1.57079633, 3.14159265])"
      ]
     },
     "execution_count": 15,
     "metadata": {},
     "output_type": "execute_result"
    }
   ],
   "source": [
    "# Create the numpy array in radians\n",
    "\n",
    "x = np.array([0, np.pi/2, np.pi])\n",
    "x"
   ]
  },
  {
   "cell_type": "code",
   "execution_count": 16,
   "id": "a8833998-aed4-41d1-ac82-87ad6122b383",
   "metadata": {},
   "outputs": [
    {
     "data": {
      "text/plain": [
       "array([0.0000000e+00, 1.0000000e+00, 1.2246468e-16])"
      ]
     },
     "execution_count": 16,
     "metadata": {},
     "output_type": "execute_result"
    }
   ],
   "source": [
    "# Calculate the sin of each elements\n",
    "\n",
    "y = np.sin(x)\n",
    "y"
   ]
  },
  {
   "cell_type": "code",
   "execution_count": null,
   "id": "4445ad2f-e199-448a-b895-960d0a200696",
   "metadata": {},
   "outputs": [],
   "source": []
  }
 ],
 "metadata": {
  "kernelspec": {
   "display_name": "Python 3 (ipykernel)",
   "language": "python",
   "name": "python3"
  },
  "language_info": {
   "codemirror_mode": {
    "name": "ipython",
    "version": 3
   },
   "file_extension": ".py",
   "mimetype": "text/x-python",
   "name": "python",
   "nbconvert_exporter": "python",
   "pygments_lexer": "ipython3",
   "version": "3.9.7"
  }
 },
 "nbformat": 4,
 "nbformat_minor": 5
}
