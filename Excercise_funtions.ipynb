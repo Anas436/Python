{
 "cells": [
  {
   "cell_type": "code",
   "execution_count": 1,
   "id": "ac2722df-ebaa-4326-ad13-c092fe987068",
   "metadata": {},
   "outputs": [
    {
     "data": {
      "text/plain": [
       "2"
      ]
     },
     "execution_count": 1,
     "metadata": {},
     "output_type": "execute_result"
    }
   ],
   "source": [
    "#Come up with a function that divides the first input by the second input:\n",
    "\n",
    "def div(a, b):\n",
    "    return(a//b)\n",
    "div(10,5)"
   ]
  },
  {
   "cell_type": "code",
   "execution_count": 4,
   "id": "1addc4fc-c4f5-4f62-9c79-922db7b8100b",
   "metadata": {},
   "outputs": [
    {
     "data": {
      "text/plain": [
       "'My Name is Md. Anas Mondol'"
      ]
     },
     "execution_count": 4,
     "metadata": {},
     "output_type": "execute_result"
    }
   ],
   "source": [
    "#Can the con function we defined before be used to add two integers or strings?\n",
    "\n",
    "def con(a, b):\n",
    "    return(a + b)\n",
    "con(\"My Name is \", \"Md. Anas Mondol\")"
   ]
  },
  {
   "cell_type": "code",
   "execution_count": 5,
   "id": "4bef102b-431a-4f45-b57e-7dffe511814c",
   "metadata": {},
   "outputs": [
    {
     "data": {
      "text/plain": [
       "4"
      ]
     },
     "execution_count": 5,
     "metadata": {},
     "output_type": "execute_result"
    }
   ],
   "source": [
    "con(2,2)"
   ]
  },
  {
   "cell_type": "code",
   "execution_count": 6,
   "id": "3273f2c0-2dba-4483-8391-04c62d354676",
   "metadata": {},
   "outputs": [
    {
     "data": {
      "text/plain": [
       "['a', 1, 'b', 1]"
      ]
     },
     "execution_count": 6,
     "metadata": {},
     "output_type": "execute_result"
    }
   ],
   "source": [
    "# Can the con function we defined before be used to concatenate lists or tuples?\n",
    "\n",
    "con(['a', 1], ['b', 1])"
   ]
  },
  {
   "cell_type": "code",
   "execution_count": null,
   "id": "4f28141e-ae7c-42e3-a095-e5bc7ebb7ee7",
   "metadata": {},
   "outputs": [],
   "source": []
  }
 ],
 "metadata": {
  "kernelspec": {
   "display_name": "Python",
   "language": "python",
   "name": "conda-env-python-py"
  },
  "language_info": {
   "codemirror_mode": {
    "name": "ipython",
    "version": 3
   },
   "file_extension": ".py",
   "mimetype": "text/x-python",
   "name": "python",
   "nbconvert_exporter": "python",
   "pygments_lexer": "ipython3",
   "version": "3.7.12"
  }
 },
 "nbformat": 4,
 "nbformat_minor": 5
}
